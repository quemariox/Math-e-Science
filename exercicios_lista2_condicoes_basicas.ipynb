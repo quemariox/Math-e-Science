{
  "nbformat": 4,
  "nbformat_minor": 0,
  "metadata": {
    "colab": {
      "provenance": [],
      "authorship_tag": "ABX9TyNX/qreoUZPloBuTXjES10d",
      "include_colab_link": true
    },
    "kernelspec": {
      "name": "python3",
      "display_name": "Python 3"
    },
    "language_info": {
      "name": "python"
    }
  },
  "cells": [
    {
      "cell_type": "markdown",
      "metadata": {
        "id": "view-in-github",
        "colab_type": "text"
      },
      "source": [
        "<a href=\"https://colab.research.google.com/github/quemariox/Math-e-Science/blob/main/exercicios_lista2_condicoes_basicas.ipynb\" target=\"_parent\"><img src=\"https://colab.research.google.com/assets/colab-badge.svg\" alt=\"Open In Colab\"/></a>"
      ]
    },
    {
      "cell_type": "markdown",
      "source": [
        "# If, Elif e Else"
      ],
      "metadata": {
        "id": "9s0kO4nNNgzp"
      }
    },
    {
      "cell_type": "markdown",
      "source": [
        "As estruturas if, else e elif são fundamentais para escrever código que tome decisões com base em condições específicas. Elas permitem controlar o fluxo do programa de maneira flexível e poderosa, adaptando o comportamento do código de acordo com diferentes situações e entradas.\n",
        "```\n",
        "if condição1:\n",
        "    # bloco de código se a condição1 for verdadeira\n",
        "elif condição2:\n",
        "    # bloco de código se a condição2 for verdadeira\n",
        "else:\n",
        "    # bloco de código se nenhuma das condições anteriores for verdadeira\n",
        "\n",
        "```"
      ],
      "metadata": {
        "id": "wWhKBMr8NkO1"
      }
    },
    {
      "cell_type": "code",
      "source": [
        "nota = 75\n",
        "\n",
        "if nota >= 90:\n",
        "    print(\"Aprovado com nota A\")\n",
        "elif nota >= 80:\n",
        "    print(\"Aprovado com nota B\")\n",
        "elif nota >= 70:\n",
        "    print(\"Aprovado com nota C\")\n",
        "else:\n",
        "    print(\"Reprovado\")"
      ],
      "metadata": {
        "colab": {
          "base_uri": "https://localhost:8080/"
        },
        "id": "QNKMeD99NwdW",
        "outputId": "b5cfc982-db5e-4b48-a3f2-153471ae1f62"
      },
      "execution_count": 1,
      "outputs": [
        {
          "output_type": "stream",
          "name": "stdout",
          "text": [
            "Aprovado com nota C\n"
          ]
        }
      ]
    },
    {
      "cell_type": "markdown",
      "source": [
        "# Exercícios"
      ],
      "metadata": {
        "id": "Q_CIk23kODWT"
      }
    },
    {
      "cell_type": "markdown",
      "source": [
        "17) Escreva um programa que pergunte a velocidade de um carro. Caso ultrapasse 80Km/h, exiba uma mensagem dizendo que o usuário foi multado. Nesse caso, exiba\n",
        "o valor da multa, cobrando R$5 por cada Km acima da velocidade permitida.\n"
      ],
      "metadata": {
        "id": "-f6ZCPXGVf0z"
      }
    },
    {
      "cell_type": "code",
      "source": [
        "velocidade = float(input('Qual a velocidade do carro? '))\n",
        "\n",
        "if velocidade > 80:\n",
        "  multa = (velocidade - 80)*5\n",
        "  print(f'Você ultrapassou o limite de velocidade e foi multado em R$ {multa} reais.')\n",
        "else:\n",
        "  print('Boa viajem!!!')"
      ],
      "metadata": {
        "colab": {
          "base_uri": "https://localhost:8080/"
        },
        "id": "rS3lMCI7VjWo",
        "outputId": "2aa67e50-58dc-48fc-d765-caaf86cf8e92"
      },
      "execution_count": null,
      "outputs": [
        {
          "output_type": "stream",
          "name": "stdout",
          "text": [
            "Qual a velocidade do carro? 92\n",
            "Você ultrapassou o limite de velocidade e foi multado em R$ 60.0 reais.\n"
          ]
        }
      ]
    },
    {
      "cell_type": "markdown",
      "source": [
        "18) Faça um programa que leia o ano de nascimento de uma pessoa, calcule a idade dela e depois mostre se ela pode ou não votar.\n"
      ],
      "metadata": {
        "id": "QiC_jAyIVjAW"
      }
    },
    {
      "cell_type": "code",
      "source": [
        "ano_atual = int(input('Em que ano estamos? '))\n",
        "ano_nasc = int(input('Digite o seu ano de nascimento '))\n",
        "\n",
        "idade = ano_atual - ano_nasc\n",
        "\n",
        "if idade > 16:\n",
        "  print(f'Você tem {idade} anos e já pode votar.')\n",
        "else:\n",
        "  print(f'Você tem {idade} anos e ainda não pode votar.')"
      ],
      "metadata": {
        "colab": {
          "base_uri": "https://localhost:8080/"
        },
        "id": "kOMPzTWYVknn",
        "outputId": "1c019b7c-9767-48a1-e71f-3d47f18bc10b"
      },
      "execution_count": null,
      "outputs": [
        {
          "output_type": "stream",
          "name": "stdout",
          "text": [
            "Em que ano estamos? 2024\n",
            "Digite o seu ano de nascimento 2012\n",
            "Você tem 12 anos e ainda não pode votar.\n"
          ]
        }
      ]
    },
    {
      "cell_type": "markdown",
      "source": [
        "19) Crie um algoritmo que leia o nome e as duas notas de um aluno, calcule a sua média e mostre na tela. No final, analise a média e mostre se o aluno teve ou\n",
        "não um bom aproveitamento (se ficou acima da média 7.0).\n"
      ],
      "metadata": {
        "id": "tsqOE6k7ViSo"
      }
    },
    {
      "cell_type": "code",
      "source": [
        "nota_1 = float(input('Qual foi a primeira nota? '))\n",
        "nota_2 = float(input('Qual foi a segunda nota?'))\n",
        "\n",
        "media = (nota_1 + nota_2)/2\n",
        "\n",
        "if media > 7.0:\n",
        "  print(f'Sua média foi de {media} pontos. Você está aprovado.')\n",
        "else:\n",
        "  print(f'Sua média foi de {media} pontos. Você está reprovado.')"
      ],
      "metadata": {
        "colab": {
          "base_uri": "https://localhost:8080/"
        },
        "id": "JZweyJlmVhfU",
        "outputId": "aa7d6261-a643-44ab-ff06-3c9eff0e6cf2"
      },
      "execution_count": null,
      "outputs": [
        {
          "output_type": "stream",
          "name": "stdout",
          "text": [
            "Qual foi a primeira nota? 6\n",
            "Qual foi a segunda nota?9\n",
            "Sua média foi de 7.5 pontos. Você está aprovado.\n"
          ]
        }
      ]
    },
    {
      "cell_type": "markdown",
      "source": [
        "20) Desenvolva um programa que leia um número inteiro e mostre se ele é PAR ou ÍMPAR.\n"
      ],
      "metadata": {
        "id": "xx4bGcf6VmUP"
      }
    },
    {
      "cell_type": "code",
      "execution_count": null,
      "metadata": {
        "colab": {
          "base_uri": "https://localhost:8080/"
        },
        "id": "46Ug51JeVY1e",
        "outputId": "e54d66fd-e1ab-4929-af9d-54f3ed30807a"
      },
      "outputs": [
        {
          "output_type": "stream",
          "name": "stdout",
          "text": [
            "Digite um número 23\n",
            "23 é ímpar.\n"
          ]
        }
      ],
      "source": [
        "num = int(input('Digite um número '))\n",
        "\n",
        "if num%2 == 0:\n",
        "  print(f'{num} é par.')\n",
        "else:\n",
        "  print(f'{num} é ímpar.')"
      ]
    },
    {
      "cell_type": "markdown",
      "source": [
        "21) Faça um algoritmo que leia um determinado ano e mostre se ele é ou não\n",
        "BISSEXTO."
      ],
      "metadata": {
        "id": "9SDXc376V1x3"
      }
    },
    {
      "cell_type": "code",
      "source": [
        "ano = int(input('Digite um ano '))\n",
        "\n",
        "if (ano%4 == 0):\n",
        "  if (ano%100 != 0) or (ano%400 == 0):\n",
        "    print(f'{ano} é bissexto.')\n",
        "else:\n",
        "  print(f'{ano} não é bissexto.')"
      ],
      "metadata": {
        "colab": {
          "base_uri": "https://localhost:8080/"
        },
        "id": "5cigoMyEV2jJ",
        "outputId": "05069d71-8a92-47d3-d611-3f123e3ea311"
      },
      "execution_count": null,
      "outputs": [
        {
          "output_type": "stream",
          "name": "stdout",
          "text": [
            "Digite um ano 1996\n",
            "1996 é bissexto.\n"
          ]
        }
      ]
    },
    {
      "cell_type": "markdown",
      "source": [
        "22) Escreva um programa que leia o ano de nascimento de um rapaz e mostre a sua situação em relação ao alistamento militar.\n",
        "- Se estiver antes dos 18 anos, mostre em quantos anos faltam para o\n",
        "alistamento.\n",
        "- Se já tiver depois dos 18 anos, mostre quantos anos já se passaram do alistamento."
      ],
      "metadata": {
        "id": "9NKyXIjugzS7"
      }
    },
    {
      "cell_type": "code",
      "source": [
        "ano_atual = int(input('Em que ano estamos? '))\n",
        "ano_nasc = int(input('Em que ano você nasceu? '))\n",
        "\n",
        "idade = ano_atual - ano_nasc\n",
        "\n",
        "if idade == 18:\n",
        "  print(f'Você já tem {idade} anos, deve se alistar esse ano!')\n",
        "elif idade < 18:\n",
        "  print(f'Você ainda tem {idade} anos, faltam {18-idade} anos para o seu alistamento!')\n",
        "else:\n",
        "  print(f'Você já tem {idade} anos, deveria ter se alistado a {idade-18} anos atrás!')"
      ],
      "metadata": {
        "colab": {
          "base_uri": "https://localhost:8080/"
        },
        "id": "YfwHRrJWq6ZU",
        "outputId": "315d37f7-f962-478c-af4d-5e5a3515f86d"
      },
      "execution_count": null,
      "outputs": [
        {
          "output_type": "stream",
          "name": "stdout",
          "text": [
            "Em que ano estamos? 2024\n",
            "Em que ano você nasceu? 1997\n",
            "Você já tem 27 anos, deveria ter se alistado a 9 anos atrás!\n"
          ]
        }
      ]
    },
    {
      "cell_type": "markdown",
      "source": [
        "\n",
        "23) Numa promoção exclusiva para o Dia da Mulher, uma loja quer dar descontos para todos, mas especialmente para mulheres. Faça um programa que leia nome, sexo e o valor das compras do cliente e calcule o preço com desconto. Sabendo\n",
        "que:\n",
        "- Homens ganham 5% de desconto\n",
        "- Mulheres ganham 13% de desconto"
      ],
      "metadata": {
        "id": "XjTzrsk1g-DK"
      }
    },
    {
      "cell_type": "code",
      "source": [
        "genero = int(input('Você é: \\n homem [1]? \\n mulher[2]? \\n outro [0]? '))\n",
        "preco_original = float(input('Qual o preço original do produto? '))\n",
        "\n",
        "if genero == 0:\n",
        "  print(f'Sem descontos para você, amigo. Pague R$ {preco_original} reais.')\n",
        "elif genero == 1:\n",
        "  print(f'Temos 5% de desconto para homens. Pague R$ {0.95*preco_original} reais.')\n",
        "elif genero == 2:\n",
        "  print(f'Temos 13% de desconto para homens. Pague R$ {0.87*preco_original} reais.')\n",
        "else:\n",
        "  print(f'Ocorreu um erro, tente novamente!')"
      ],
      "metadata": {
        "colab": {
          "base_uri": "https://localhost:8080/"
        },
        "id": "k5-oADkosKW6",
        "outputId": "798dcf05-9616-4f28-d08e-abd7bfeb1f4d"
      },
      "execution_count": null,
      "outputs": [
        {
          "output_type": "stream",
          "name": "stdout",
          "text": [
            "Você é: \n",
            " homem [1]? \n",
            " mulher[2]? \n",
            " outro [0]? 2\n",
            "Qual o preço original do produto? 1000\n",
            "Temos 13% de desconto para homens. Pague R$ 870.0 reais.\n"
          ]
        }
      ]
    },
    {
      "cell_type": "markdown",
      "source": [
        "24) Faça um algoritmo que pergunte a distância que um passageiro deseja percorrer em Km. Calcule o preço da passagem, cobrando 0.50 reais por Km para viagens até 200Km e 0.45 reais para viagens mais longas.\n"
      ],
      "metadata": {
        "id": "tfz5RheFhAa-"
      }
    },
    {
      "cell_type": "code",
      "source": [
        "distancia = float(input('Qual foi a distância percorrida em Km? '))\n",
        "\n",
        "if distancia <= 200:\n",
        "  print(f'Você percorreu {distancia} Km. A corrida custou R$ {distancia*0.5} reais.')\n",
        "else:\n",
        "  print(f'Você percorreu {distancia} Km. A corrida custou R$ {distancia*0.45} reais.')"
      ],
      "metadata": {
        "colab": {
          "base_uri": "https://localhost:8080/"
        },
        "id": "hfy3MSCMwcUH",
        "outputId": "52039834-24ca-412d-e7ff-b040814734be"
      },
      "execution_count": null,
      "outputs": [
        {
          "output_type": "stream",
          "name": "stdout",
          "text": [
            "Qual foi a distância percorrida em Km? 200\n",
            "Você percorreu 200.0 Km. A corrida custou R$ 100.0 reais.\n"
          ]
        }
      ]
    },
    {
      "cell_type": "markdown",
      "source": [
        "25) [DESAFIO] Crie um programa que leia o tamanho de três segmentos de reta. Analise seus comprimentos e diga se é possível formar um triângulo com essas retas. Matematicamente, para três segmentos formarem um triângulo, o comprimento de cada lado deve ser menor que a soma dos outros dois."
      ],
      "metadata": {
        "id": "bAWP2eNehCCF"
      }
    },
    {
      "cell_type": "code",
      "source": [
        "a = float(input('Qual o comprimento do primeiro segmento? '))\n",
        "b = float(input('Qual o comprimento do segundo segmento? '))\n",
        "c = float(input('Qual o comprimento do terceiro segmento? '))\n",
        "\n",
        "if ((a + b) > c) & ((b + c) > a) & ((c + a) > b):\n",
        "  print(f'Os segmentos {a}, {b} e {c} formam um triângulo.')\n",
        "else:\n",
        "  print(f'Os segmentos {a}, {b} e {c} não formam um triângulo.')"
      ],
      "metadata": {
        "colab": {
          "base_uri": "https://localhost:8080/"
        },
        "id": "VmLbaYtNxVYx",
        "outputId": "97859adf-d675-40d3-ac23-1a90010dd065"
      },
      "execution_count": null,
      "outputs": [
        {
          "output_type": "stream",
          "name": "stdout",
          "text": [
            "Qual o comprimento do primeiro segmento? 1\n",
            "Qual o comprimento do segundo segmento? 2\n",
            "Qual o comprimento do terceiro segmento? 1\n",
            "Os segmentos 1.0, 2.0 e 1.0 não formam um triângulo.\n"
          ]
        }
      ]
    }
  ]
}