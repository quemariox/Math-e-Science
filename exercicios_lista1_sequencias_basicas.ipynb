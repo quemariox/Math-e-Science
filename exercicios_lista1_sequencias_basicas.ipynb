{
  "nbformat": 4,
  "nbformat_minor": 0,
  "metadata": {
    "colab": {
      "provenance": [],
      "authorship_tag": "ABX9TyMrW9DELgwdbGTn9a/MK3ue",
      "include_colab_link": true
    },
    "kernelspec": {
      "name": "python3",
      "display_name": "Python 3"
    },
    "language_info": {
      "name": "python"
    }
  },
  "cells": [
    {
      "cell_type": "markdown",
      "metadata": {
        "id": "view-in-github",
        "colab_type": "text"
      },
      "source": [
        "<a href=\"https://colab.research.google.com/github/quemariox/Math-e-Science/blob/main/exercicios_lista1_sequencias_basicas.ipynb\" target=\"_parent\"><img src=\"https://colab.research.google.com/assets/colab-badge.svg\" alt=\"Open In Colab\"/></a>"
      ]
    },
    {
      "cell_type": "markdown",
      "source": [
        "1. Escreva um programa que mostre na tela a mensagem \"Olá, Mundo!\""
      ],
      "metadata": {
        "id": "SmuOxY4AzZjd"
      }
    },
    {
      "cell_type": "code",
      "execution_count": null,
      "metadata": {
        "colab": {
          "base_uri": "https://localhost:8080/"
        },
        "id": "Jk9NW6IpzYND",
        "outputId": "f4d31d85-69ed-4002-aa91-f948dd421aaf"
      },
      "outputs": [
        {
          "output_type": "stream",
          "name": "stdout",
          "text": [
            "Olá, Mundo!\n"
          ]
        }
      ],
      "source": [
        "print('Olá, Mundo!')"
      ]
    },
    {
      "cell_type": "markdown",
      "source": [
        "2. Faça um programa que leia o nome de uma pessoa e mostre uma mensagem de boas-\n",
        "vindas para ela:\n",
        "Ex:\n",
        "Qual é o seu nome? João da Silva\n",
        "Olá João da Silva, é um prazer te conhecer!"
      ],
      "metadata": {
        "id": "HRIOTvf3zkAx"
      }
    },
    {
      "cell_type": "code",
      "source": [
        "nome = input('Qual é o seu nome? ')\n",
        "\n",
        "print(f'Olá {nome}, é um prazer te conhecer!')"
      ],
      "metadata": {
        "colab": {
          "base_uri": "https://localhost:8080/"
        },
        "id": "VF4zU_GEzeLF",
        "outputId": "acbef8dc-f178-4082-af32-0c12d2ae40c5"
      },
      "execution_count": null,
      "outputs": [
        {
          "output_type": "stream",
          "name": "stdout",
          "text": [
            "Qual é o seu nome? MÁRIO LUCAS MIGUEL\n",
            "Olá MÁRIO LUCAS MIGUEL, é um prazer te conhecer!\n"
          ]
        }
      ]
    },
    {
      "cell_type": "markdown",
      "source": [
        "3. Crie um programa que leia o nome e o salário de um funcionário, mostrando no final uma mensagem.\n",
        "Ex:\n",
        "Nome do Funcionário: Maria do Carmo\n",
        "Salário: 1850,45\n",
        "O funcionário Maria do Carmo tem um salário de R$1850,45 em Junho."
      ],
      "metadata": {
        "id": "vvjF3ryzz5yt"
      }
    },
    {
      "cell_type": "code",
      "source": [
        "nome = str(input('Qual é o nome do funcionário? '))\n",
        "salario = float(input('Qual é o salário do funcionário? '))\n",
        "\n",
        "print(f'O funcionário(a) {nome} tem um salário de R$ {str(salario)} reais.')"
      ],
      "metadata": {
        "colab": {
          "base_uri": "https://localhost:8080/"
        },
        "id": "KPdMvJL9zzdq",
        "outputId": "fbbb7a4b-e2e2-4237-92d8-51bed2527771"
      },
      "execution_count": null,
      "outputs": [
        {
          "output_type": "stream",
          "name": "stdout",
          "text": [
            "Qual é o nome do funcionário? JOSÉ\n",
            "Qual é o salário do funcionário? 2340.40\n",
            "O funcionário(a) JOSÉ tem um salário de R$ 2340.4 reais.\n"
          ]
        }
      ]
    },
    {
      "cell_type": "markdown",
      "source": [
        "4. Desenvolva um algoritmo que leia dois números inteiros e mostre o somatório entre eles.\n",
        "Ex:\n",
        "Digite um valor: 8\n",
        "Digite outro valor: 5\n",
        "A soma entre 8 e 5 é igual a 13."
      ],
      "metadata": {
        "id": "mkqwDez01NEg"
      }
    },
    {
      "cell_type": "code",
      "source": [
        "num_1 = int(input('Digite um número inteiro '))\n",
        "num_2 = int(input('Digite outro número inteiro '))\n",
        "\n",
        "soma = num_1 + num_2\n",
        "\n",
        "print(f'A soma entre {str(num_1)} e {str(num_2)} é igual a {str(soma)}.')"
      ],
      "metadata": {
        "colab": {
          "base_uri": "https://localhost:8080/"
        },
        "id": "2Dj9biTtz37s",
        "outputId": "df3232f7-4656-4c43-a6da-f91298ad9bc0"
      },
      "execution_count": null,
      "outputs": [
        {
          "output_type": "stream",
          "name": "stdout",
          "text": [
            "Digite um número inteiro 23\n",
            "Digite outro número inteiro 45\n",
            "A soma entre 23 e 45 é igual a 68.\n"
          ]
        }
      ]
    },
    {
      "cell_type": "markdown",
      "source": [
        "5. Faça um programa que leia as duas notas de um aluno em uma matéria e mostre na tela a sua média na disciplina.\n",
        "Ex:\n",
        "Nota 1: 4.5\n",
        "Nota 2: 8.5\n",
        "A média entre 4.5 e 8.5 é igual a 6.5"
      ],
      "metadata": {
        "id": "7VWNH5gu16TE"
      }
    },
    {
      "cell_type": "code",
      "source": [
        "nota_1 = float(input('Digite a primeira nota '))\n",
        "nota_2 = float(input('Digite a segunda nota '))\n",
        "\n",
        "media = (nota_1 + nota_2)/2\n",
        "\n",
        "print(f'A média entre {nota_1} e {nota_2} é igual a {media}.')"
      ],
      "metadata": {
        "colab": {
          "base_uri": "https://localhost:8080/"
        },
        "id": "IRJ1hv_S1wW0",
        "outputId": "c56fb281-702a-4c72-9e4c-78e2885e23cd"
      },
      "execution_count": null,
      "outputs": [
        {
          "output_type": "stream",
          "name": "stdout",
          "text": [
            "Digite a primeira nota 4.5\n",
            "Digite a segunda nota 5.6\n",
            "A média entre 4.5 e 5.6 é igual a 5.05.\n"
          ]
        }
      ]
    },
    {
      "cell_type": "markdown",
      "source": [
        "6. Faça um programa que leia um número inteiro e mostre o seu antecessor e seu sucessor.\n",
        "Ex:\n",
        "Digite um número: 9\n",
        "O antecessor de 9 é 8\n",
        "O sucessor de 9 é 10"
      ],
      "metadata": {
        "id": "PRfGpf5d2i8f"
      }
    },
    {
      "cell_type": "code",
      "source": [
        "numero = int(input('Digite um número inteiro '))\n",
        "\n",
        "antecessor = numero - 1\n",
        "sucessor = numero + 1\n",
        "\n",
        "print(f'O antecessor de {numero} é {antecessor} e o sucessor de {numero} é {sucessor}.')"
      ],
      "metadata": {
        "colab": {
          "base_uri": "https://localhost:8080/"
        },
        "id": "KK2U0PZN2IN_",
        "outputId": "5d954d37-844c-466b-9a4f-02c03a793e82"
      },
      "execution_count": null,
      "outputs": [
        {
          "output_type": "stream",
          "name": "stdout",
          "text": [
            "Digite um número inteiro 3\n",
            "O antecessor de 3 é 2 e o sucessor de 3 é 4.\n"
          ]
        }
      ]
    },
    {
      "cell_type": "markdown",
      "source": [
        "7. Crie um algoritmo que leia um número real e mostre na tela o seu dobro e a\n",
        "sua terça parte.\n",
        "Ex:\n",
        "Digite um número: 3.5\n",
        "O dobro de 3.5 é 7.0\n",
        "A terça parte de 3.5 é 1.16666"
      ],
      "metadata": {
        "id": "FsdODl-C3PVU"
      }
    },
    {
      "cell_type": "code",
      "source": [
        "numero = float(input('Digite um número real '))\n",
        "\n",
        "dobro = numero * 2\n",
        "terca_parte = numero / 3\n",
        "\n",
        "print(f'O dobro do número {numero} é {dobro} e a terça parte do número {numero} é {terca_parte}.')\n",
        "\n"
      ],
      "metadata": {
        "colab": {
          "base_uri": "https://localhost:8080/"
        },
        "id": "E8KNQbjC2xVj",
        "outputId": "6571be54-8a7f-4b02-c88b-9889b0716971"
      },
      "execution_count": null,
      "outputs": [
        {
          "output_type": "stream",
          "name": "stdout",
          "text": [
            "Digite um número real 34.5\n",
            "O dobro do número 34.5 é 69.0 e a terça parte do número 34.5 é 11.5.\n"
          ]
        }
      ]
    },
    {
      "cell_type": "markdown",
      "source": [
        "8. Desenvolva um programa que leia uma distância em metros e mostre os valores relativos em outras medidas.\n",
        "Ex:\n",
        "Digite uma distância em metros: 185.72\n",
        "A distância de 85.7m corresponde a:\n",
        "\n",
        "0.18572Km  \n",
        "\n",
        "1.8572Hm\n",
        "\n",
        "18.572Dam\n",
        "\n",
        "1857.2dm\n",
        "\n",
        "18572.0cm\n",
        "\n",
        "185720.0mm"
      ],
      "metadata": {
        "id": "n-IDs6-l3v5s"
      }
    },
    {
      "cell_type": "code",
      "source": [
        "distancia = float(input('Digite o valor da distância em metros.'))\n",
        "\n",
        "distancia_Km = distancia / 1000\n",
        "distancia_Hm = distancia / 100\n",
        "distancia_Dam = distancia / 10\n",
        "distancia_dm = distancia * 10\n",
        "distancia_cm = distancia * 100\n",
        "distancia_mm = distancia * 1000\n",
        "\n",
        "print(f\"\"\"A distância de {distancia} m equivale a:\n",
        "{distancia_Km} Km\n",
        "{distancia_Hm} Hm\n",
        "{distancia_Dam} Dam\n",
        "{distancia_dm} dm\n",
        "{distancia_cm} cm\n",
        "{distancia_mm} mm \"\"\")"
      ],
      "metadata": {
        "colab": {
          "base_uri": "https://localhost:8080/"
        },
        "id": "y2BQJAn13rV5",
        "outputId": "72468140-c8ca-455d-fbda-86f639e59a87"
      },
      "execution_count": null,
      "outputs": [
        {
          "output_type": "stream",
          "name": "stdout",
          "text": [
            "Digite o valor da distância em metros.234\n",
            "A distância de 234.0 m equivale a: \n",
            "0.234 Km\n",
            "2.34 Hm\n",
            "23.4 Dam\n",
            "2340.0 dm\n",
            "23400.0 cm\n",
            "234000.0 mm \n"
          ]
        }
      ]
    },
    {
      "cell_type": "markdown",
      "source": [
        "9. Faça um algoritmo que leia quanto dinheiro uma pessoa tem na carteira em Reais e mostre quantos dólares ela pode comprar. Considere US$1,00 = R$3,45.\n"
      ],
      "metadata": {
        "id": "N1fqEI8t5L6g"
      }
    },
    {
      "cell_type": "code",
      "source": [
        "saldo_real = float(input('Quantos reais você tem na carteira agora? '))\n",
        "\n",
        "saldo_dolar = saldo_real / 3.45\n",
        "\n",
        "print(f'Com os seus R$ {saldo_real} reais você pode comprar U$ {saldo_dolar} dólares.')"
      ],
      "metadata": {
        "colab": {
          "base_uri": "https://localhost:8080/"
        },
        "id": "KQ_lIfXz5XH7",
        "outputId": "af9e147e-c6cd-4f25-f7c2-d27834bfd356"
      },
      "execution_count": null,
      "outputs": [
        {
          "output_type": "stream",
          "name": "stdout",
          "text": [
            "Quantos reais você tem na carteira agora? 80\n",
            "Com os seus R$ 80.0 reais você pode comprar U$ 23.18840579710145 dólares.\n"
          ]
        }
      ]
    },
    {
      "cell_type": "markdown",
      "source": [
        "10. Faça um algoritmo que leia a largura e altura de uma parede, calcule e\n",
        "mostre a área a ser pintada e a quantidade de tinta necessária para o serviço, sabendo que cada litro de tinta pinta uma área de 2metros quadrados."
      ],
      "metadata": {
        "id": "rfl2Aqtl5VLJ"
      }
    },
    {
      "cell_type": "code",
      "source": [
        "largura = float(input('Qual a largura da parede? '))\n",
        "altura = float(input('Qual a altura da parede? '))\n",
        "\n",
        "area = largura * altura\n",
        "tinta = area / 2\n",
        "\n",
        "print(f\"\"\"A sua parede posui dimensões {largura} m x {altura} m, o que resulta em uma área de {area} m².\n",
        "Para pintar essa parede de {area} m² você precisará de {tinta} L de tinta.\"\"\")"
      ],
      "metadata": {
        "colab": {
          "base_uri": "https://localhost:8080/"
        },
        "id": "w57R6e9e5Dtt",
        "outputId": "09ea515e-6d96-4444-db65-f46459128f5c"
      },
      "execution_count": null,
      "outputs": [
        {
          "output_type": "stream",
          "name": "stdout",
          "text": [
            "Qual a largura da parede? 2\n",
            "Qual a altura da parede? 3.5\n",
            "A sua parede posui dimensões 2.0 m x 3.5 m, o que resulta em uma área de 7.0 m². \n",
            "Para pintar essa parede de 7.0 m² você precisará de 3.5 L de tinta.\n"
          ]
        }
      ]
    },
    {
      "cell_type": "markdown",
      "source": [
        "11. Desenvolva uma lógica que leia os valores de A, B e C de uma equação do\n",
        "segundo grau e mostre o valor de Delta.\n"
      ],
      "metadata": {
        "id": "_NMvSdTn8CTj"
      }
    },
    {
      "cell_type": "code",
      "source": [
        "a = float(input('Digite o coeficiente a '))\n",
        "b = float(input('Digite o coeficiente b '))\n",
        "c = float(input('Digite o coeficiente c '))\n",
        "\n",
        "delta = b**2 - 4*a*c\n",
        "\n",
        "print(f'Para a equação {a}x² + {b}x + {c} o delta vale {delta}.')"
      ],
      "metadata": {
        "colab": {
          "base_uri": "https://localhost:8080/"
        },
        "id": "Yols0vCV9DAa",
        "outputId": "b7af469e-924c-4117-9cb9-3c5216b35c6f"
      },
      "execution_count": null,
      "outputs": [
        {
          "output_type": "stream",
          "name": "stdout",
          "text": [
            "Digite o coeficiente a 1\n",
            "Digite o coeficiente b 2\n",
            "Digite o coeficiente c 3\n",
            "Para a equação 1.0x² + 2.0x + 3.0 o delta vale -8.0.\n"
          ]
        }
      ]
    },
    {
      "cell_type": "markdown",
      "source": [
        "12. Crie um programa que leia o preço de um produto, calcule e mostre o seu\n",
        "PREÇO PROMOCIONAL, com 5% de desconto.\n",
        "\n",
        "---\n",
        "\n"
      ],
      "metadata": {
        "id": "v-C4hpkX8B_l"
      }
    },
    {
      "cell_type": "code",
      "source": [
        "preco_original = float(input('Qual o preço do produto? '))\n",
        "\n",
        "preco_desconto = preco_original - (preco_original * 5/100)\n",
        "\n",
        "print(f'O preço promocional é de R$ {preco_desconto} reais.')"
      ],
      "metadata": {
        "colab": {
          "base_uri": "https://localhost:8080/"
        },
        "id": "KQQgkiZD9ynB",
        "outputId": "565cf06b-6ce2-4b2c-cff1-35da645e3d67"
      },
      "execution_count": null,
      "outputs": [
        {
          "output_type": "stream",
          "name": "stdout",
          "text": [
            "Qual o preço do produto? 150\n",
            "O preço promocional é de R$ 142.5 reais.\n"
          ]
        }
      ]
    },
    {
      "cell_type": "markdown",
      "source": [
        "13. Faça um algoritmo que leia o salário de um funcionário, calcule e mostre o seu novo salário, com 15% de aumento."
      ],
      "metadata": {
        "id": "Wuvon9xe8B58"
      }
    },
    {
      "cell_type": "code",
      "source": [
        "salario = float(input('Qual é o valor do salário atual? '))\n",
        "\n",
        "salario_novo = salario*1.15Criado usando o Colab\n",
        "\n",
        "print(f'O novo salário é de R$ {salario_novo} reais.')\n"
      ],
      "metadata": {
        "colab": {
          "base_uri": "https://localhost:8080/"
        },
        "id": "ubONDUO4BRcC",
        "outputId": "16787c7a-4e3a-467d-e79a-d8d0343add9a"
      },
      "execution_count": null,
      "outputs": [
        {
          "output_type": "stream",
          "name": "stdout",
          "text": [
            "Qual é o valor do salário atual? 3003.50\n",
            "O novo salário é de R$ 3454.0249999999996 reais.\n"
          ]
        }
      ]
    },
    {
      "cell_type": "markdown",
      "source": [
        "14. A locadora de carros precisa da sua ajuda para cobrar seus serviços. Escreva um programa que pergunte a quantidade de Km percorridos por um carro alugado e a quantidade de dias pelos quais ele foi alugado. Calcule o preço total a pagar, sabendo que o carro custa 90 reais por dia e 0,20 reais por Km rodado.\n"
      ],
      "metadata": {
        "id": "xMYe2rIT8B2g"
      }
    },
    {
      "cell_type": "code",
      "source": [
        "distancia = float(input('Quantos Km foram percorridos? '))\n",
        "dias = float(input('Por quantos dias o carro foi alugado? '))\n",
        "\n",
        "total = distancia*0.2 + dias*90\n",
        "\n",
        "print(f'O valor total a ser pago por {dias} dias rodando {distancia} km é de R$ {total} reais.' )"
      ],
      "metadata": {
        "colab": {
          "base_uri": "https://localhost:8080/"
        },
        "id": "xcLQ-soDDZo9",
        "outputId": "61dcf111-f96a-49be-fea9-15511fe1c5dc"
      },
      "execution_count": null,
      "outputs": [
        {
          "output_type": "stream",
          "name": "stdout",
          "text": [
            "Quantos Km foram percorridos? 1000\n",
            "Por quantos dias o carro foi alugado? 10\n",
            "O valor total a ser pago por 10.0 dias rodando 1000.0 km é de R$ 1100.0 reais.\n"
          ]
        }
      ]
    },
    {
      "cell_type": "markdown",
      "source": [
        "15. Crie um programa que leia o número de dias trabalhados em um mês e mostre o salário de um funcionário, sabendo que ele trabalha 8 horas por dia e ganha R$25 por hora trabalhada.\n"
      ],
      "metadata": {
        "id": "zUPC6nv68BxD"
      }
    },
    {
      "cell_type": "code",
      "source": [
        "dias_trabalhados = int(input('Quantos dias o funcionário trabalhou esse mês? '))\n",
        "\n",
        "salario = dias_trabalhados*25*8\n",
        "\n",
        "print(f'Esse mês o salário foi de R$ {salario} reais.')"
      ],
      "metadata": {
        "colab": {
          "base_uri": "https://localhost:8080/"
        },
        "id": "0cjykpKJDZ9c",
        "outputId": "498e705a-d2ef-4b2f-de4a-292e4801093c"
      },
      "execution_count": null,
      "outputs": [
        {
          "output_type": "stream",
          "name": "stdout",
          "text": [
            "Quantos dias o funcionário trabalhou esse mês? 20\n",
            "Esse mês o salário foi de R$ 4000 reais.\n"
          ]
        }
      ]
    },
    {
      "cell_type": "markdown",
      "source": [
        "16. [DESAFIO] Escreva um programa para calcular a redução do tempo de vida de um fumante. Pergunte a quantidade de cigarros fumados por dias e quantos anos ele já fumou. Considere que um fumante perde 10 min de vida a cada cigarro. Calcule quantos dias de vida um fumante perderá e exiba o total em dias."
      ],
      "metadata": {
        "id": "jcGpVyN-8BnL"
      }
    },
    {
      "cell_type": "code",
      "source": [
        "num_cigarros_dia = int(input('Quantos cigarros você fuma por dia? '))\n",
        "tempo_anos = int(input('A quantos anos você é fumante? '))\n",
        "\n",
        "tempo_dias = tempo_anos*365\n",
        "dias_perdidos = (num_cigarros_dia*tempo_dias*10)/60/24\n",
        "\n",
        "print(f\"\"\"Fumando uma média de {num_cigarros_dia} cigarros por dia {tempo_anos} anos, você já perdeu {dias_perdidos} dias de vida\"\"\")"
      ],
      "metadata": {
        "colab": {
          "base_uri": "https://localhost:8080/"
        },
        "id": "Mvl9_EmI7sYh",
        "outputId": "47afc2f3-5e66-431e-dbfe-759fb228e98f"
      },
      "execution_count": null,
      "outputs": [
        {
          "output_type": "stream",
          "name": "stdout",
          "text": [
            "Quantos cigarros você fuma por dia? 20\n",
            "A quantos anos você é fumante? 14\n",
            "Fumando uma média de 20 cigarros por dia 14 anos, você já perdeu 709.7222222222222 dias de vida\n"
          ]
        }
      ]
    }
  ]
}