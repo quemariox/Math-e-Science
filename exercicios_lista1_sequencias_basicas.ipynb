{
  "nbformat": 4,
  "nbformat_minor": 0,
  "metadata": {
    "colab": {
      "provenance": [],
      "authorship_tag": "ABX9TyNMe3CUeThirTCZBajX566E",
      "include_colab_link": true
    },
    "kernelspec": {
      "name": "python3",
      "display_name": "Python 3"
    },
    "language_info": {
      "name": "python"
    }
  },
  "cells": [
    {
      "cell_type": "markdown",
      "metadata": {
        "id": "view-in-github",
        "colab_type": "text"
      },
      "source": [
        "<a href=\"https://colab.research.google.com/github/quemariox/Math-e-Science/blob/main/exercicios_lista1_sequencias_basicas.ipynb\" target=\"_parent\"><img src=\"https://colab.research.google.com/assets/colab-badge.svg\" alt=\"Open In Colab\"/></a>"
      ]
    },
    {
      "cell_type": "markdown",
      "source": [
        "1. Escreva um programa que mostre na tela a mensagem \"Olá, Mundo!\""
      ],
      "metadata": {
        "id": "SmuOxY4AzZjd"
      }
    },
    {
      "cell_type": "code",
      "execution_count": 1,
      "metadata": {
        "colab": {
          "base_uri": "https://localhost:8080/"
        },
        "id": "Jk9NW6IpzYND",
        "outputId": "f4d31d85-69ed-4002-aa91-f948dd421aaf"
      },
      "outputs": [
        {
          "output_type": "stream",
          "name": "stdout",
          "text": [
            "Olá, Mundo!\n"
          ]
        }
      ],
      "source": [
        "print('Olá, Mundo!')"
      ]
    },
    {
      "cell_type": "markdown",
      "source": [
        "2. Faça um programa que leia o nome de uma pessoa e mostre uma mensagem de boas-\n",
        "vindas para ela:\n",
        "Ex:\n",
        "Qual é o seu nome? João da Silva\n",
        "Olá João da Silva, é um prazer te conhecer!"
      ],
      "metadata": {
        "id": "HRIOTvf3zkAx"
      }
    },
    {
      "cell_type": "code",
      "source": [
        "nome = input('Qual é o seu nome? ')\n",
        "\n",
        "print(f'Olá {nome}, é um prazer te conhecer!')"
      ],
      "metadata": {
        "colab": {
          "base_uri": "https://localhost:8080/",
          "height": 322
        },
        "id": "VF4zU_GEzeLF",
        "outputId": "b869d85f-1f7b-47c6-caf9-b5ec189ee1fe"
      },
      "execution_count": 2,
      "outputs": [
        {
          "output_type": "error",
          "ename": "KeyboardInterrupt",
          "evalue": "Interrupted by user",
          "traceback": [
            "\u001b[0;31m---------------------------------------------------------------------------\u001b[0m",
            "\u001b[0;31mKeyboardInterrupt\u001b[0m                         Traceback (most recent call last)",
            "\u001b[0;32m<ipython-input-2-096874dc17de>\u001b[0m in \u001b[0;36m<cell line: 1>\u001b[0;34m()\u001b[0m\n\u001b[0;32m----> 1\u001b[0;31m \u001b[0mnome\u001b[0m \u001b[0;34m=\u001b[0m \u001b[0minput\u001b[0m\u001b[0;34m(\u001b[0m\u001b[0;34m'Qual é o seu nome? '\u001b[0m\u001b[0;34m)\u001b[0m\u001b[0;34m\u001b[0m\u001b[0;34m\u001b[0m\u001b[0m\n\u001b[0m\u001b[1;32m      2\u001b[0m \u001b[0;34m\u001b[0m\u001b[0m\n\u001b[1;32m      3\u001b[0m \u001b[0mprint\u001b[0m\u001b[0;34m(\u001b[0m\u001b[0;34mf'Olá {nome}, é um prazer te conhecer!'\u001b[0m\u001b[0;34m)\u001b[0m\u001b[0;34m\u001b[0m\u001b[0;34m\u001b[0m\u001b[0m\n",
            "\u001b[0;32m/usr/local/lib/python3.10/dist-packages/ipykernel/kernelbase.py\u001b[0m in \u001b[0;36mraw_input\u001b[0;34m(self, prompt)\u001b[0m\n\u001b[1;32m    849\u001b[0m                 \u001b[0;34m\"raw_input was called, but this frontend does not support input requests.\"\u001b[0m\u001b[0;34m\u001b[0m\u001b[0;34m\u001b[0m\u001b[0m\n\u001b[1;32m    850\u001b[0m             )\n\u001b[0;32m--> 851\u001b[0;31m         return self._input_request(str(prompt),\n\u001b[0m\u001b[1;32m    852\u001b[0m             \u001b[0mself\u001b[0m\u001b[0;34m.\u001b[0m\u001b[0m_parent_ident\u001b[0m\u001b[0;34m,\u001b[0m\u001b[0;34m\u001b[0m\u001b[0;34m\u001b[0m\u001b[0m\n\u001b[1;32m    853\u001b[0m             \u001b[0mself\u001b[0m\u001b[0;34m.\u001b[0m\u001b[0m_parent_header\u001b[0m\u001b[0;34m,\u001b[0m\u001b[0;34m\u001b[0m\u001b[0;34m\u001b[0m\u001b[0m\n",
            "\u001b[0;32m/usr/local/lib/python3.10/dist-packages/ipykernel/kernelbase.py\u001b[0m in \u001b[0;36m_input_request\u001b[0;34m(self, prompt, ident, parent, password)\u001b[0m\n\u001b[1;32m    893\u001b[0m             \u001b[0;32mexcept\u001b[0m \u001b[0mKeyboardInterrupt\u001b[0m\u001b[0;34m:\u001b[0m\u001b[0;34m\u001b[0m\u001b[0;34m\u001b[0m\u001b[0m\n\u001b[1;32m    894\u001b[0m                 \u001b[0;31m# re-raise KeyboardInterrupt, to truncate traceback\u001b[0m\u001b[0;34m\u001b[0m\u001b[0;34m\u001b[0m\u001b[0m\n\u001b[0;32m--> 895\u001b[0;31m                 \u001b[0;32mraise\u001b[0m \u001b[0mKeyboardInterrupt\u001b[0m\u001b[0;34m(\u001b[0m\u001b[0;34m\"Interrupted by user\"\u001b[0m\u001b[0;34m)\u001b[0m \u001b[0;32mfrom\u001b[0m \u001b[0;32mNone\u001b[0m\u001b[0;34m\u001b[0m\u001b[0;34m\u001b[0m\u001b[0m\n\u001b[0m\u001b[1;32m    896\u001b[0m             \u001b[0;32mexcept\u001b[0m \u001b[0mException\u001b[0m \u001b[0;32mas\u001b[0m \u001b[0me\u001b[0m\u001b[0;34m:\u001b[0m\u001b[0;34m\u001b[0m\u001b[0;34m\u001b[0m\u001b[0m\n\u001b[1;32m    897\u001b[0m                 \u001b[0mself\u001b[0m\u001b[0;34m.\u001b[0m\u001b[0mlog\u001b[0m\u001b[0;34m.\u001b[0m\u001b[0mwarning\u001b[0m\u001b[0;34m(\u001b[0m\u001b[0;34m\"Invalid Message:\"\u001b[0m\u001b[0;34m,\u001b[0m \u001b[0mexc_info\u001b[0m\u001b[0;34m=\u001b[0m\u001b[0;32mTrue\u001b[0m\u001b[0;34m)\u001b[0m\u001b[0;34m\u001b[0m\u001b[0;34m\u001b[0m\u001b[0m\n",
            "\u001b[0;31mKeyboardInterrupt\u001b[0m: Interrupted by user"
          ]
        }
      ]
    },
    {
      "cell_type": "markdown",
      "source": [
        "3. Crie um programa que leia o nome e o salário de um funcionário, mostrando no final uma mensagem.\n",
        "Ex:\n",
        "Nome do Funcionário: Maria do Carmo\n",
        "Salário: 1850,45\n",
        "O funcionário Maria do Carmo tem um salário de R$1850,45 em Junho."
      ],
      "metadata": {
        "id": "vvjF3ryzz5yt"
      }
    },
    {
      "cell_type": "code",
      "source": [
        "nome = str(input('Qual é o nome do funcionário? '))\n",
        "salario = float(input('Qual é o salário do funcionário? '))\n",
        "\n",
        "print(f'O funcionário(a) {nome} tem um salário de R$ {str(salario)} reais.')"
      ],
      "metadata": {
        "id": "KPdMvJL9zzdq"
      },
      "execution_count": null,
      "outputs": []
    },
    {
      "cell_type": "markdown",
      "source": [
        "4. Desenvolva um algoritmo que leia dois números inteiros e mostre o somatório entre eles.\n",
        "Ex:\n",
        "Digite um valor: 8\n",
        "Digite outro valor: 5\n",
        "A soma entre 8 e 5 é igual a 13."
      ],
      "metadata": {
        "id": "mkqwDez01NEg"
      }
    },
    {
      "cell_type": "code",
      "source": [
        "num_1 = int(input('Digite um número inteiro '))\n",
        "num_2 = int(input('Digite outro número inteiro '))\n",
        "soma = num_1 + num_2\n",
        "\n",
        "print(f'A soma entre {str(num_1)} e {str(num_2)} é igual a {str(soma)}.')"
      ],
      "metadata": {
        "id": "2Dj9biTtz37s"
      },
      "execution_count": null,
      "outputs": []
    },
    {
      "cell_type": "markdown",
      "source": [
        "5. Faça um programa que leia as duas notas de um aluno em uma matéria e mostre na tela a sua média na disciplina.\n",
        "Ex:\n",
        "Nota 1: 4.5\n",
        "Nota 2: 8.5\n",
        "A média entre 4.5 e 8.5 é igual a 6.5"
      ],
      "metadata": {
        "id": "7VWNH5gu16TE"
      }
    },
    {
      "cell_type": "code",
      "source": [
        "nota_1 = float(input('Digite a primeira nota '))\n",
        "nota_2 = float(input('Digite a segunda nota '))\n",
        "media = (nota_1 + nota_2)/2\n",
        "\n",
        "print(f'A média entre {nota_1} e {nota_2} é igual a {media}.')"
      ],
      "metadata": {
        "id": "IRJ1hv_S1wW0"
      },
      "execution_count": null,
      "outputs": []
    },
    {
      "cell_type": "markdown",
      "source": [
        "6. Faça um programa que leia um número inteiro e mostre o seu antecessor e seu sucessor.\n",
        "Ex:\n",
        "Digite um número: 9\n",
        "O antecessor de 9 é 8\n",
        "O sucessor de 9 é 10"
      ],
      "metadata": {
        "id": "PRfGpf5d2i8f"
      }
    },
    {
      "cell_type": "code",
      "source": [
        "numero = int(input('Digite um número inteiro '))\n",
        "antecessor = numero - 1\n",
        "sucessor = numero + 1\n",
        "\n",
        "print(f'O antecessor de {numero} é {antecessor} e o sucessor de {numero} é {sucessor}.')"
      ],
      "metadata": {
        "id": "KK2U0PZN2IN_"
      },
      "execution_count": null,
      "outputs": []
    },
    {
      "cell_type": "markdown",
      "source": [
        "7. Crie um algoritmo que leia um número real e mostre na tela o seu dobro e a\n",
        "sua terça parte.\n",
        "Ex:\n",
        "Digite um número: 3.5\n",
        "O dobro de 3.5 é 7.0\n",
        "A terça parte de 3.5 é 1.16666"
      ],
      "metadata": {
        "id": "FsdODl-C3PVU"
      }
    },
    {
      "cell_type": "code",
      "source": [
        "numero = float(input('Digite um número real '))\n",
        "dobro = numero * 2\n",
        "terca_parte = numero / 3\n",
        "\n",
        "print(f'O dobro do número {numero} é {dobro} e a terça parte do número {numero} é {terca_parte}.')\n",
        "\n"
      ],
      "metadata": {
        "id": "E8KNQbjC2xVj"
      },
      "execution_count": null,
      "outputs": []
    },
    {
      "cell_type": "markdown",
      "source": [
        "8. Desenvolva um programa que leia uma distância em metros e mostre os valores relativos em outras medidas.\n",
        "Ex:\n",
        "Digite uma distância em metros: 185.72\n",
        "A distância de 85.7m corresponde a:\n",
        "\n",
        "0.18572Km  \n",
        "\n",
        "1.8572Hm\n",
        "\n",
        "18.572Dam\n",
        "\n",
        "1857.2dm\n",
        "\n",
        "18572.0cm\n",
        "\n",
        "185720.0mm"
      ],
      "metadata": {
        "id": "n-IDs6-l3v5s"
      }
    },
    {
      "cell_type": "code",
      "source": [
        "distancia = float(input('Digite o valor da distância em metros.'))\n",
        "distancia_Km = distancia / 1000\n",
        "distancia_Hm = distancia / 100\n",
        "distancia_Dam = distancia / 10\n",
        "distancia_dm = distancia * 10\n",
        "distancia_cm = distancia * 100\n",
        "distancia_mm = distancia * 1000\n",
        "\n",
        "print(f\"\"\"A distância de {distancia} m equivale a:\n",
        "{distancia_Km} Km\n",
        "{distancia_Hm} Hm\n",
        "{distancia_Dam} Dam\n",
        "{distancia_dm} dm\n",
        "{distancia_cm} cm\n",
        "{distancia_mm} mm \"\"\")"
      ],
      "metadata": {
        "id": "y2BQJAn13rV5"
      },
      "execution_count": null,
      "outputs": []
    },
    {
      "cell_type": "markdown",
      "source": [
        "9. Faça um algoritmo que leia quanto dinheiro uma pessoa tem na carteira em Reais e mostre quantos dólares ela pode comprar. Considere US$1,00 = R$3,45.\n"
      ],
      "metadata": {
        "id": "N1fqEI8t5L6g"
      }
    },
    {
      "cell_type": "code",
      "source": [
        "saldo_real = float(input('Quantos reais você tem na carteira agora? '))\n",
        "saldo_dolar = saldo_real / 3.45\n",
        "\n",
        "print(f'Com os seus R$ {saldo_real} reais você pode comprar U$ {saldo_dolar} dólares.')"
      ],
      "metadata": {
        "id": "KQ_lIfXz5XH7"
      },
      "execution_count": null,
      "outputs": []
    },
    {
      "cell_type": "markdown",
      "source": [
        "10. Faça um algoritmo que leia a largura e altura de uma parede, calcule e\n",
        "mostre a área a ser pintada e a quantidade de tinta necessária para o serviço, sabendo que cada litro de tinta pinta uma área de 2metros quadrados."
      ],
      "metadata": {
        "id": "rfl2Aqtl5VLJ"
      }
    },
    {
      "cell_type": "code",
      "source": [
        "largura = float(input('Qual a largura da parede? '))\n",
        "altura = float(input('Qual a altura da parede? '))\n",
        "area = largura * altura\n",
        "tinta = area / 2\n",
        "\n",
        "print(f\"\"\"A sua parede posui dimensões {largura} m x {altura} m, o que resulta em uma área de {area} m².\n",
        "Para pintar essa parede de {area} m² você precisará de {tinta} L de tinta.\"\"\")"
      ],
      "metadata": {
        "id": "w57R6e9e5Dtt"
      },
      "execution_count": null,
      "outputs": []
    },
    {
      "cell_type": "markdown",
      "source": [
        "11. Desenvolva uma lógica que leia os valores de A, B e C de uma equação do\n",
        "segundo grau e mostre o valor de Delta.\n"
      ],
      "metadata": {
        "id": "_NMvSdTn8CTj"
      }
    },
    {
      "cell_type": "code",
      "source": [
        "a = float(input('Digite o coeficiente a '))\n",
        "b = float(input('Digite o coeficiente b '))\n",
        "c = float(input('Digite o coeficiente c '))\n",
        "delta = b**2 - 4*a*c\n",
        "\n",
        "print(f'Para a equação {a}x² + {b}x + {c} o delta vale {delta}.')"
      ],
      "metadata": {
        "id": "Yols0vCV9DAa"
      },
      "execution_count": null,
      "outputs": []
    },
    {
      "cell_type": "markdown",
      "source": [
        "12. Crie um programa que leia o preço de um produto, calcule e mostre o seu\n",
        "PREÇO PROMOCIONAL, com 5% de desconto.\n",
        "\n",
        "---\n",
        "\n"
      ],
      "metadata": {
        "id": "v-C4hpkX8B_l"
      }
    },
    {
      "cell_type": "code",
      "source": [
        "preco_original = float(input('Qual o preço do produto? '))\n",
        "preco_desconto = preco_original - (preco_original * 5/100)\n",
        "\n",
        "print(f'O preço promocional é de R$ {preco_desconto} reais.')"
      ],
      "metadata": {
        "colab": {
          "base_uri": "https://localhost:8080/"
        },
        "id": "KQQgkiZD9ynB",
        "outputId": "5da5b186-4f39-4b26-e142-15c5010adb95"
      },
      "execution_count": 23,
      "outputs": [
        {
          "output_type": "stream",
          "name": "stdout",
          "text": [
            "Qual o preço do produto? 3456\n",
            "O preço promocional é de R$ 3283.2 reais.\n"
          ]
        }
      ]
    },
    {
      "cell_type": "markdown",
      "source": [
        "13. Faça um algoritmo que leia o salário de um funcionário, calcule e mostre o seu novo salário, com 15% de aumento."
      ],
      "metadata": {
        "id": "Wuvon9xe8B58"
      }
    },
    {
      "cell_type": "code",
      "source": [
        "salario = float(input('Qual é o valor do salário atual? '))\n",
        "salario_novo = salario*1.15\n",
        "print(f'O novo salário é de R$ {salario_novo} reais.')\n"
      ],
      "metadata": {
        "colab": {
          "base_uri": "https://localhost:8080/"
        },
        "id": "ubONDUO4BRcC",
        "outputId": "79176431-21df-4529-afe5-f846ce5d1689"
      },
      "execution_count": 25,
      "outputs": [
        {
          "output_type": "stream",
          "name": "stdout",
          "text": [
            "Qual é o valor do salário atual? 1234.56\n",
            "O novo salário é de R$ 1419.744 reais.\n"
          ]
        }
      ]
    },
    {
      "cell_type": "markdown",
      "source": [
        "14. A locadora de carros precisa da sua ajuda para cobrar seus serviços. Escreva um programa que pergunte a quantidade de Km percorridos por um carro alugado e a quantidade de dias pelos quais ele foi alugado. Calcule o preço total a pagar, sabendo que o carro custa 90 reais por dia e 0,20 reais por Km rodado.\n"
      ],
      "metadata": {
        "id": "xMYe2rIT8B2g"
      }
    },
    {
      "cell_type": "code",
      "source": [
        "distancia = float(input('Quantos Km foram percorridos? '))\n",
        "dias = float(input('Por quantos dias o carro foi alugado? '))\n",
        "total = distancia*0.2 + dias*90\n",
        "\n",
        "print(f'O valor total a ser pago por {dias} dias rodando {distancia} km é de R$ {total} reais.' )"
      ],
      "metadata": {
        "colab": {
          "base_uri": "https://localhost:8080/"
        },
        "id": "xcLQ-soDDZo9",
        "outputId": "996df980-6899-4ad5-bb84-7d53acf32470"
      },
      "execution_count": 27,
      "outputs": [
        {
          "output_type": "stream",
          "name": "stdout",
          "text": [
            "Quantos Km foram percorridos? 1000\n",
            "Por quantos dias o carro foi alugado? 10\n",
            "O valor total a ser pago por 10.0 dias rodando 1000.0 km é de R$ 1100.0 reais.\n"
          ]
        }
      ]
    },
    {
      "cell_type": "markdown",
      "source": [
        "15. Crie um programa que leia o número de dias trabalhados em um mês e mostre o salário de um funcionário, sabendo que ele trabalha 8 horas por dia e ganha R$25 por hora trabalhada.\n"
      ],
      "metadata": {
        "id": "zUPC6nv68BxD"
      }
    },
    {
      "cell_type": "code",
      "source": [
        "dias_trabalhados = int(input('Quantos dias o funcionário trabalhou esse mês? '))\n",
        "salario = dias_trabalhados*25*8\n",
        "\n",
        "print(f'Esse mês o salário foi de {salario}.')"
      ],
      "metadata": {
        "colab": {
          "base_uri": "https://localhost:8080/"
        },
        "id": "0cjykpKJDZ9c",
        "outputId": "1c56ce9a-c2d0-4519-dde8-77d681ab78df"
      },
      "execution_count": 28,
      "outputs": [
        {
          "output_type": "stream",
          "name": "stdout",
          "text": [
            "Quantos dias o funcionário trabalhou esse mês? 10\n",
            "Esse mês o salário foi de 2000.\n"
          ]
        }
      ]
    },
    {
      "cell_type": "markdown",
      "source": [
        "16. [DESAFIO] Escreva um programa para calcular a redução do tempo de vida de um fumante. Pergunte a quantidade de cigarros fumados por dias e quantos anos ele já fumou. Considere que um fumante perde 10 min de vida a cada cigarro. Calcule quantos dias de vida um fumante perderá e exiba o total em dias."
      ],
      "metadata": {
        "id": "jcGpVyN-8BnL"
      }
    },
    {
      "cell_type": "code",
      "source": [
        "num_cigarros_dia = int(input('Quantos cigarros você fuma por dia? '))\n",
        "tempo_anos = int(input('A quantos anos você é fumante? '))\n",
        "tempo_dias = tempo_anos*365\n",
        "dias_perdidos = (num_cigarros_dia*tempo_dias*10)/60/24\n",
        "\n",
        "print(f\"\"\"Fumando uma média de {num_cigarros_dia} cigarros por dia {tempo_anos} anos, você já perdeu {dias_perdidos} dias de vida\"\"\")"
      ],
      "metadata": {
        "colab": {
          "base_uri": "https://localhost:8080/"
        },
        "id": "Mvl9_EmI7sYh",
        "outputId": "d6f540ec-cc04-422d-a0e2-47207e1752fa"
      },
      "execution_count": 32,
      "outputs": [
        {
          "output_type": "stream",
          "name": "stdout",
          "text": [
            "Quantos cigarros você fuma por dia? 20\n",
            "A quantos anos você é fumante? 13\n",
            "Fumando uma média de 20 cigarros por dia 13 anos, você já perdeu 659.0277777777777 dias de vida\n"
          ]
        }
      ]
    }
  ]
}