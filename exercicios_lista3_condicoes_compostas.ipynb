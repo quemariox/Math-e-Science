{
  "nbformat": 4,
  "nbformat_minor": 0,
  "metadata": {
    "colab": {
      "provenance": [],
      "authorship_tag": "ABX9TyOnRjVxRbWCdE8Huiw6VgPL",
      "include_colab_link": true
    },
    "kernelspec": {
      "name": "python3",
      "display_name": "Python 3"
    },
    "language_info": {
      "name": "python"
    }
  },
  "cells": [
    {
      "cell_type": "markdown",
      "metadata": {
        "id": "view-in-github",
        "colab_type": "text"
      },
      "source": [
        "<a href=\"https://colab.research.google.com/github/quemariox/Math-e-Science/blob/main/exercicios_lista3_condicoes_compostas.ipynb\" target=\"_parent\"><img src=\"https://colab.research.google.com/assets/colab-badge.svg\" alt=\"Open In Colab\"/></a>"
      ]
    },
    {
      "cell_type": "markdown",
      "source": [
        "26) Escreva um algoritmo que leia dois números inteiros e compare-os, mostrando na tela uma das mensagens abaixo:\n",
        "- O primeiro valor é o maior\n",
        "- O segundo valor é o maior\n",
        "- Não existe valor maior, os dois são iguais"
      ],
      "metadata": {
        "id": "5m4QyN7e7vhJ"
      }
    },
    {
      "cell_type": "code",
      "execution_count": 6,
      "metadata": {
        "colab": {
          "base_uri": "https://localhost:8080/"
        },
        "id": "eUIjIorm7KV2",
        "outputId": "07f8e96c-8e04-4ec1-ca96-4d11107b0abc"
      },
      "outputs": [
        {
          "output_type": "stream",
          "name": "stdout",
          "text": [
            "Digite o primeiro número: -1\n",
            "Digite o segundo número: 10\n",
            "O segundo valor é o maior.\n"
          ]
        }
      ],
      "source": [
        "num1 = int(input('Digite o primeiro número: '))\n",
        "num2 = int(input('Digite o segundo número: '))\n",
        "\n",
        "if num1 > num2:\n",
        "  print('O primeiro valor é o maior.')\n",
        "elif num1 < num2:\n",
        "  print('O segundo valor é o maior.')\n",
        "else:\n",
        "  print('Não existe valor maior, os dois são iguais.')"
      ]
    },
    {
      "cell_type": "markdown",
      "source": [
        "27) Crie um programa que leia duas notas de um aluno e calcule a sua média, mostrando uma mensagem no final, de acordo com a média atingida:\n",
        "- Média até 4.9: REPROVADO\n",
        "- Média entre 5.0 e 6.9: RECUPERAÇÃO\n",
        "- Média 7.0 ou superior: APROVADO\n"
      ],
      "metadata": {
        "id": "qV-COQta71_r"
      }
    },
    {
      "cell_type": "code",
      "source": [
        "nota1 = float(input('Digite a primeira nota: '))\n",
        "nota2 = float(input('Digite a segunda nota: '))\n",
        "\n",
        "media = (nota1 + nota2)/2\n",
        "\n",
        "if media <= 4.9:\n",
        "  print(f'A sua média foi {media} pontos. Você está REPROVADO!')\n",
        "elif 4.9 < media <= 6.9:\n",
        "  print(f'A sua média foi {media} pontos. Você está em RECUPERAÇÃO!')\n",
        "else:\n",
        "  print(f'A sua média foi {media} pontos. Você está APROVADO!')"
      ],
      "metadata": {
        "colab": {
          "base_uri": "https://localhost:8080/"
        },
        "id": "_yVaRkPU76Ik",
        "outputId": "692bdd94-1b85-4ef6-e069-5ea69c52b035"
      },
      "execution_count": 16,
      "outputs": [
        {
          "output_type": "stream",
          "name": "stdout",
          "text": [
            "Digite a primeira nota: 1\n",
            "Digite a segunda nota: 3\n",
            "A sua média foi 2.0 pontos. Você está REPROVADO!\n"
          ]
        }
      ]
    },
    {
      "cell_type": "markdown",
      "source": [
        "28) Faça um programa que leia a largura e o comprimento de um terreno retangular, calculando e mostrando a sua área em m². O programa também devemostrar a classificação desse terreno, de acordo com a lista abaixo:\n",
        "- Abaixo de 100m² = TERRENO POPULAR\n",
        "- Entre 100m² e 500m² = TERRENO MASTER\n",
        "- Acima de 500m² = TERRENO VIP\n"
      ],
      "metadata": {
        "id": "MMrEtc9j76xU"
      }
    },
    {
      "cell_type": "code",
      "source": [
        "largura = float(input('Digite a largura do terreno em m: '))\n",
        "altura = float(input('Digite a altura do terreno em m: '))\n",
        "\n",
        "area = largura*altura\n",
        "\n",
        "if area < 100:\n",
        "  print(f'O terreno de {area} m² é um TERRENO POPULAR.')\n",
        "elif 100 <= area <= 500:\n",
        "  print(f'O terreno de {area} m² é um TERRENO MASTER.')\n",
        "else:\n",
        "  print(f'O terrendo de {area} m² é um TERRENO VIP.')"
      ],
      "metadata": {
        "colab": {
          "base_uri": "https://localhost:8080/"
        },
        "id": "AEvyuLAS7-Jp",
        "outputId": "84215c2c-d17b-4343-f8bb-79a7b655130a"
      },
      "execution_count": 21,
      "outputs": [
        {
          "output_type": "stream",
          "name": "stdout",
          "text": [
            "Digite a largura do terreno em m: 10\n",
            "Digite a altura do terreno em m: 51\n",
            "O terrendo de 510.0 m² é um TERRENO VIP.\n"
          ]
        }
      ]
    },
    {
      "cell_type": "markdown",
      "source": [
        "29) Desenvolva um programa que leia o nome de um funcionário, seu salário, quantos anos ele trabalha na empresa e mostre seu novo salário, reajustado de acordo com a tabela a seguir:\n",
        "- Até 3 anos de empresa: aumento de 3%\n",
        "- entre 3 e 10 anos: aumento de 12.5%\n",
        "- 10 anos ou mais: aumento de 20%\n"
      ],
      "metadata": {
        "id": "iDSSoiMg7-pf"
      }
    },
    {
      "cell_type": "code",
      "source": [
        "tempo_servico = int(input('A quantos anos você trabalha conosco? '))\n",
        "salario = float(input('Qual é o seu salário atual? '))\n",
        "\n",
        "if tempo_servico < 3:\n",
        "  print(f'{tempo_servico} anos de servico. Salário com aumento: R$ {1.03*salario} reais.')\n",
        "elif 3 <= tempo_servico < 10:\n",
        "  print(f'{tempo_servico} anos de servico. Salário com aumento: R$ {1.125*salario} reais.')\n",
        "else:\n",
        "  print(f'{tempo_servico} anos de servico. Salário com aumento: R$ {1.2*salario} reais.')"
      ],
      "metadata": {
        "colab": {
          "base_uri": "https://localhost:8080/"
        },
        "id": "d2ltP8It8CLY",
        "outputId": "fd90aa60-ae81-478f-ee32-749cbe0d7080"
      },
      "execution_count": 26,
      "outputs": [
        {
          "output_type": "stream",
          "name": "stdout",
          "text": [
            "A quantos anos você trabalha conosco? 10\n",
            "Qual é o seu salário atual? 1000\n",
            "10 anos de servico. Salário com aumento: R$ 1200.0 reais.\n"
          ]
        }
      ]
    },
    {
      "cell_type": "markdown",
      "source": [
        "30) [DESAFIO] Refaça o algoritmo 25, acrescentando o recurso de mostrar que tipo de triângulo será formado:\n",
        "- EQUILÁTERO: todos os lados iguais\n",
        "- ISÓSCELES: dois lados iguais\n",
        "- ESCALENO: todos os lados diferentes\n"
      ],
      "metadata": {
        "id": "JJqRrEu48Cux"
      }
    },
    {
      "cell_type": "code",
      "source": [
        "a = float(input('Comprimento do primeiro lado: '))\n",
        "b = float(input('Comprimento do segundo lado: '))\n",
        "c = float(input('Comprimento o terceiro lado: '))\n",
        "\n",
        "if ((a + b) > c) & ((b + c) > a) & ((c + a) > b):\n",
        "  if (a == b) & (b == c):\n",
        "    print(f'Os segmentos {a}, {b} e {c} formam um triângulo EQUILÁTERO.')\n",
        "  elif ((a == b) & (b != c)) or ((b == c) & (c != a)) or ((c == a) & (a != b)):\n",
        "    print(f'Os segmentos {a}, {b} e {c} formam um triângulo ISÓCELES.' )\n",
        "  else:\n",
        "    print(f'Os segmentos {a}, {b} e {c} formam um triânfulo ESCALENO.'2)\n",
        "else:\n",
        "  print(f'Os segmentos {a}, {b} e {c} NÃO formam um triângulo.')"
      ],
      "metadata": {
        "colab": {
          "base_uri": "https://localhost:8080/"
        },
        "id": "P-FGvwCb8FMH",
        "outputId": "affa6e1b-15c3-4888-95e1-1fe870f73dfa"
      },
      "execution_count": 30,
      "outputs": [
        {
          "output_type": "stream",
          "name": "stdout",
          "text": [
            "Comprimento do primeiro lado: 1\n",
            "Comprimento do segundo lado: 2\n",
            "Comprimento o terceiro lado: 3\n",
            "Os segmentos 1.0, 2.0 e 3.0 não formam um triângulo.\n"
          ]
        }
      ]
    },
    {
      "cell_type": "markdown",
      "source": [
        "31) [DESAFIO] Crie um jogo de JoKenPo (Pedra-Papel-Tesoura)\n",
        "\n"
      ],
      "metadata": {
        "id": "4PwbgPWR8FkE"
      }
    },
    {
      "cell_type": "code",
      "source": [
        "import random\n",
        "\n",
        "jogador = int(input(\"\"\"Escolha sua jogada:\n",
        "pedra [0]\n",
        "papel [1]\n",
        "tesoura [2] \\n\"\"\"))\n",
        "\n",
        "oponente = random.randint(0,2)\n",
        "\n",
        "if jogador == oponente:\n",
        "  print('Empate!!!')\n",
        "elif ((jogador == 0) & (oponente == 2)) or ((jogador == 1) & (oponente == 0)) or ((jogador == 2) & (oponente == 1)):\n",
        "  print('Venceu!!!')\n",
        "elif ((jogador == 0) & (oponente == 1)) or ((jogador == 1) & (oponente == 2)) or ((jogador == 2) & (oponente == 0)):\n",
        "  print('Perdeu!!!')\n",
        "\n",
        "if oponente == 0:\n",
        "  print('Oponente jogou pedra.')\n",
        "elif oponente == 1:\n",
        "  print('Oponente jogou papel.')\n",
        "else:\n",
        "  print('Oponente jogou tesoura.')"
      ],
      "metadata": {
        "colab": {
          "base_uri": "https://localhost:8080/"
        },
        "id": "MgIt19HT8Hdv",
        "outputId": "008b8683-6fd8-43da-f785-ca475faf0078"
      },
      "execution_count": 53,
      "outputs": [
        {
          "output_type": "stream",
          "name": "stdout",
          "text": [
            "Escolha sua jogada:\n",
            "pedra [0]\n",
            "papel [1]\n",
            "tesoura [2]1\n",
            "Empate!!!\n",
            "Oponente jogou papel.\n"
          ]
        }
      ]
    },
    {
      "cell_type": "markdown",
      "source": [
        "32) [DESAFIO] Crie um jogo onde o computador vai sortear um número entre 1 e 5 o\n",
        "jogador vai tentar descobrir qual foi o valor sorteado."
      ],
      "metadata": {
        "id": "Wp2cETE48IBz"
      }
    },
    {
      "cell_type": "code",
      "source": [
        "import random\n",
        "\n",
        "palpite = int(input('Digite um número inteiro de 1 a 5: \\n '))\n",
        "\n",
        "sorteio = random.randint(1,5)\n",
        "\n",
        "if palpite == sorteio:\n",
        "  print(f'Você ACERTOU, o número sorteado foi {sorteio}.')\n",
        "else:\n",
        "  print(f'Você ERROU, o número sorteado foi {sorteio}.')"
      ],
      "metadata": {
        "colab": {
          "base_uri": "https://localhost:8080/"
        },
        "id": "4mGAVYhpQO0h",
        "outputId": "7f32bead-4c62-446e-80f8-b7eca49030fa"
      },
      "execution_count": 57,
      "outputs": [
        {
          "output_type": "stream",
          "name": "stdout",
          "text": [
            "Digite um número inteiro de 1 a 5: 2\n",
            "Você errou, o número sorteado foi 1.\n"
          ]
        }
      ]
    },
    {
      "cell_type": "markdown",
      "source": [
        "33) Escreva um programa para aprovar ou não o empréstimo bancário para a compra de uma casa. O programa vai perguntar o valor da casa, o salário do comprador e em quantos anos ele vai pagar. Calcule o valor da prestação mensal, sabendo que\n",
        "ela não pode exceder 30% do salário ou então o empréstimo será negado.\n"
      ],
      "metadata": {
        "id": "R_89KDYaRBDG"
      }
    },
    {
      "cell_type": "code",
      "source": [
        "valor_casa = float(input('Qual é o valor da casa que você deseja? \\n '))\n",
        "salario = float(input('Qual é o valor do seu salário? \\n ' ))\n",
        "tempo = int(input('Em quantos anos você pretende pagar? \\n'))\n",
        "\n",
        "parcela = valor_casa/(12*tempo)\n",
        "\n",
        "if parcela < 0.3*salario:\n",
        "  print(f'Empréstimo concedido. Valor da parcela: R$ {parcela} reais, inferior a 30% do seu salário de R$ {salario} reais.')\n",
        "else:\n",
        "  print(f'Empréstimo negado. Valor da parcela: R$ {parcela} reais, superior a 30% do seu salário de R$ {salario} reais.')"
      ],
      "metadata": {
        "colab": {
          "base_uri": "https://localhost:8080/"
        },
        "id": "F9EJLRhtRGMr",
        "outputId": "58009cd7-ce12-4db3-b1d4-10cdb7c1322b"
      },
      "execution_count": 64,
      "outputs": [
        {
          "output_type": "stream",
          "name": "stdout",
          "text": [
            "Qual é o valor da casa que você deseja? 10000\n",
            "Qual é o valor do seu salário? 1000\n",
            "Em quantos anos você pretende pagar? 3\n",
            "Empréstimo concedido. Valor da parcela: R$ 277.77777777777777 reais, inferior a 30% do seu salário de R$ 1000.0 reais.\n"
          ]
        }
      ]
    },
    {
      "cell_type": "markdown",
      "source": [
        "34) O Índice de Massa Corpórea (IMC) é um valor calculado baseado na altura e no peso de uma pessoa. De acordo com o valor do IMC, podemos classificar o indivíduo dentro de certas faixas.\n",
        "- abaixo de 18.5: Abaixo do peso\n",
        "- entre 18.5 e 25: Peso ideal\n",
        "- entre 25 e 30: Sobrepeso\n",
        "- entre 30 e 40: Obesidade\n",
        "- acima de 40: Obseidade mórbida\n",
        "\n",
        "Obs: O IMC é calculado pela expressão peso/altura² (peso dividido pelo quadrado da altura)\n"
      ],
      "metadata": {
        "id": "nbIyhbCCRHA5"
      }
    },
    {
      "cell_type": "code",
      "source": [
        "massa = float(input('Qual é a sua massa em kg? \\n '))\n",
        "altura = float(input('Qual é a sua altura em m? \\n '))\n",
        "\n",
        "imc = massa/(altura**2)\n",
        "\n",
        "if imc < 18.5:\n",
        "  print(f'ABAIXO DO PESO: Seu imc é de {imc}')\n",
        "elif 18.5 <= imc < 25:\n",
        "  print(f'PESO IDEAL: Seu imc é de {imc}')\n",
        "elif 25 <= imc < 30:\n",
        "  print(f'SOBREPESO: Seu imc é de {imc}')\n",
        "elif 30 <= imc <= 40:\n",
        "  print(f'OBESIDADE: Seu imc é de {imc}')\n",
        "else:\n",
        "  print(f'OBESIDADE MÓRBIDA: Seu imc é de {imc}')\n"
      ],
      "metadata": {
        "colab": {
          "base_uri": "https://localhost:8080/"
        },
        "id": "u0C_uG19RLfM",
        "outputId": "fbeefb88-f4be-4814-9a05-f31852789df3"
      },
      "execution_count": 69,
      "outputs": [
        {
          "output_type": "stream",
          "name": "stdout",
          "text": [
            "Qual é a sua massa em kg?80\n",
            "Qual é a sua altura em m?1.78\n",
            "SOBREPESO: Seu imc é de 25.24933720489837\n"
          ]
        }
      ]
    },
    {
      "cell_type": "markdown",
      "source": [
        "35) Uma empresa de aluguel de carros precisa cobrar pelos seus serviços. O aluguel de um carro custa R$90 por dia para carro popular e 150 reais por dia para carro de luxo. Além disso, o cliente paga por Km percorrido. Faça um programa que leia o tipo de carro alugado (popular ou luxo), quantos dias de aluguel e quantos Km foram percorridos. No final mostre o preço a ser pago de acordo com a tabela a seguir:\n",
        "\n",
        "- Carros populares (aluguel de 90 por dia)\n",
        "- Até 100Km percorridos: 0,20 reais por Km\n",
        "- Acima de 100Km percorridos: 0,10 reais por Km\n",
        "- Carros de luxo (aluguel de 150 reais por dia)\n",
        "- Até 200Km percorridos: 0,30 reais por Km\n",
        "- Acima de 200Km percorridos: 0,25 reais por Km\n"
      ],
      "metadata": {
        "id": "Fxw8uI23RMAa"
      }
    },
    {
      "cell_type": "code",
      "source": [
        "tipo_carro = int(input('Qual tipo de carro você alugou? \\n popular [0] \\n luxo [1] \\n '))\n",
        "distancia = float(input('Qual foi a distancia que você percorreu? \\n '))\n",
        "tempo = int(input('Quantos dias você ficou com um carro? \\n '))\n",
        "\n",
        "if tipo_carro == 0:\n",
        "  if distancia <= 100:\n",
        "    print(f'O custo total foi de R$ {90*tempo + 0.2*distancia}')\n",
        "  elif distancia > 100:\n",
        "    print(f'O custo total foi de R$ {90*tempo + 0.1*distancia}')\n",
        "elif tipo_carro == 1:\n",
        "  if distancia <= 200:\n",
        "    print(f'O custo total foi de R$ {150*tempo + 0.3*distancia}')\n",
        "  elif distancia > 200:\n",
        "    print(f'O custo total foi de R$ {150*tempo + 0.25*distancia}')\n",
        "else:\n",
        "  print('Comando inválido. Tente novamente!')"
      ],
      "metadata": {
        "colab": {
          "base_uri": "https://localhost:8080/"
        },
        "id": "z3mO7cK_RWlL",
        "outputId": "2562e2be-e5db-4b16-e756-34450d204571"
      },
      "execution_count": 79,
      "outputs": [
        {
          "output_type": "stream",
          "name": "stdout",
          "text": [
            "Qual tipo de carro você alugou? \n",
            " popular [0] \n",
            " luxo [1] \n",
            " 1\n",
            "Qual foi a distancia que você percorreu? \n",
            " 300\n",
            "Quantos dias você ficou com um carro? \n",
            " 1\n",
            "O custo total foi de R$ 225.0\n"
          ]
        }
      ]
    },
    {
      "cell_type": "markdown",
      "source": [
        "36) Um programa de vida saudável quer dar pontos atividades físicas que podem ser trocados por dinheiro. O sistema funciona assim:\n",
        "- Cada hora de atividade física no mês vale pontos\n",
        "- até 10h de atividade no mês: ganha 2 pontos por hora\n",
        "- de 10h até 20h de atividade no mês: ganha 5 pontos por hora\n",
        "- acima de 20h de atividade no mês: ganha 10 pontos por hora\n",
        "- A cada ponto ganho, o cliente fatura R$0,05 (5 centavos)\n",
        "\n",
        "Faça um programa que leia quantas horas de atividade uma pessoa teve por mês, calcule e mostre quantos pontos ela teve e quanto dinheiro ela conseguiu ganhar."
      ],
      "metadata": {
        "id": "y8wdqvDzRXHx"
      }
    },
    {
      "cell_type": "code",
      "source": [
        "tempo_atv = int(input('Quantas horas de atividade física você praticou esse mês? \\n'))\n",
        "\n",
        "if tempo_atv < 10:\n",
        "  print(f'Você faturou R$ {tempo_pontosatv*2*0.05}')\n",
        "elif 10 <= tempo_atv <= 20:\n",
        "  print(f'Você faturou R$ {tempo_atv*5*0.05}')\n",
        "else:\n",
        "  print(f'Você faturou R$ {tempo_atv*10*0.05}')"
      ],
      "metadata": {
        "colab": {
          "base_uri": "https://localhost:8080/"
        },
        "id": "IQqUVXnRRcE1",
        "outputId": "395c5948-2cab-4637-fe2c-b8d4947808ac"
      },
      "execution_count": 84,
      "outputs": [
        {
          "output_type": "stream",
          "name": "stdout",
          "text": [
            "Quantas horas de atividade física você praticou esse mês? \n",
            "20\n",
            "Você faturou R$ 5.0\n"
          ]
        }
      ]
    },
    {
      "cell_type": "markdown",
      "source": [
        "37) Uma empresa precisa reajustar o salário dos seus funcionários, dando um aumento de acordo com alguns fatores. Faça um programa que leia o salário atual, o gênero do funcionário e há quantos anos esse funcionário trabalha na empresa. No final, mostre o seu novo salário, baseado na tabela a seguir:\n",
        "\n",
        "- Mulheres\n",
        "- menos de 15 anos de empresa: +5%\n",
        "- de 15 até 20 anos de empresa: +12%\n",
        "- mais de 20 anos de empresa: +23%\n",
        "- Homens\n",
        "- menos de 20 anos de empresa: +3%\n",
        "- de 20 até 30 anos de empresa: +13%\n",
        "- mais de 30 anos de empresa: +25%"
      ],
      "metadata": {
        "id": "ChG6kOH5RczX"
      }
    },
    {
      "cell_type": "code",
      "source": [
        "genero = int(input('Você é: \\n homem [0] \\n mulher [1] \\n outro [2] \\n'))\n",
        "tempo = int(input('A quantos anos vocÊ trabalha conosco? \\n'))\n",
        "salario = float(input('Qual é o seu salário atual? \\n'))\n",
        "\n",
        "if (genero == 0):\n",
        "  if tempo < 20:\n",
        "    print(f'Novo salário: R$ {salario*1.03} reais')\n",
        "  elif 20 <= tempo <= 30:\n",
        "    print(f'Novo salário: R$ {salario*1.13} reais')\n",
        "  else:\n",
        "    print(f'Novo salário: R$ {salario*1.25} reais')\n",
        "elif (genero == 1):\n",
        "  if tempo < 15:\n",
        "    print(f'Novo salário: R$ {salario*1.05} reais')\n",
        "  elif 15 <= tempo <=20:\n",
        "    print(f'Novo salário: R$ {salario*1.12} reais')\n",
        "  else:\n",
        "    print(f'Novo salário: R$ {salario*1.25} reais')\n",
        "else:\n",
        "  print(f'Sem aumento pra você, bro...')"
      ],
      "metadata": {
        "colab": {
          "base_uri": "https://localhost:8080/"
        },
        "id": "kM_UobbjRhzZ",
        "outputId": "c91a021d-0785-4b81-9f50-189338a89474"
      },
      "execution_count": 88,
      "outputs": [
        {
          "output_type": "stream",
          "name": "stdout",
          "text": [
            "Você é: \n",
            " homem [0] \n",
            " mulher [1] \n",
            " outro [2] \n",
            "2\n",
            "A quantos anos vocÊ trabalha conosco? \n",
            "12\n",
            "Qual é o seu salário atual? \n",
            "1000\n",
            "Sem aumento pra você, bro...\n"
          ]
        }
      ]
    }
  ]
}