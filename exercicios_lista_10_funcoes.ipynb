{
  "nbformat": 4,
  "nbformat_minor": 0,
  "metadata": {
    "colab": {
      "private_outputs": true,
      "provenance": [],
      "authorship_tag": "ABX9TyPF7JEh+Bd9hyRthcbqeQAs",
      "include_colab_link": true
    },
    "kernelspec": {
      "name": "python3",
      "display_name": "Python 3"
    },
    "language_info": {
      "name": "python"
    }
  },
  "cells": [
    {
      "cell_type": "markdown",
      "metadata": {
        "id": "view-in-github",
        "colab_type": "text"
      },
      "source": [
        "<a href=\"https://colab.research.google.com/github/quemariox/Math-e-Science/blob/main/exercicios_lista10_funcoes.ipynb\" target=\"_parent\"><img src=\"https://colab.research.google.com/assets/colab-badge.svg\" alt=\"Open In Colab\"/></a>"
      ]
    },
    {
      "cell_type": "markdown",
      "source": [
        "# Funções"
      ],
      "metadata": {
        "id": "HBSDL0l9Lk3T"
      }
    },
    {
      "cell_type": "markdown",
      "source": [
        "**Definição:** Funções são blocos de código que executam uma tarefa específica e retornam um valor ao chamador.\n",
        "\n",
        "**Uso:** São usadas para realizar operações e depois devolver um resultado para ser usado pelo código que chamou a função.\n",
        "\n",
        "**Sintaxe em Python:** Em Python, funções são definidas usando a instrução def e utilizam a instrução return para devolver um valor."
      ],
      "metadata": {
        "id": "3vmeIz7jLkse"
      }
    },
    {
      "cell_type": "code",
      "execution_count": null,
      "metadata": {
        "id": "BUgsHWONLj30"
      },
      "outputs": [],
      "source": [
        "# Implementando função somar\n",
        "def somar(a, b):\n",
        "    return a + b\n",
        "\n",
        "# Chamando a função e armazenando o resultado\n",
        "resultado = somar(5, 3)\n",
        "print(\"A soma é:\", resultado)\n"
      ]
    },
    {
      "cell_type": "markdown",
      "source": [
        "# Exercícios"
      ],
      "metadata": {
        "id": "O0_sFHDLMMx-"
      }
    },
    {
      "cell_type": "markdown",
      "source": [
        "95) Refaça o exercício 90, só que agora em forma de função Somador(), que vai\n",
        "receber dois parâmetros e vai retornar o resultado da soma entre eles para o\n",
        "programa principal."
      ],
      "metadata": {
        "id": "lj6ixNnLMPFp"
      }
    },
    {
      "cell_type": "code",
      "source": [
        "a = float(input('Digite um número:   '))\n",
        "b = float(input('Digite outro número:   '))\n",
        "\n",
        "def somador(n1, n2):\n",
        "  return a + b\n",
        "\n",
        "print(f'A soma entre {a} e {b} é {somador(a,b)}')"
      ],
      "metadata": {
        "id": "87DFAZGLbwu2"
      },
      "execution_count": null,
      "outputs": []
    },
    {
      "cell_type": "markdown",
      "source": [
        "96) Crie um programa que tenha uma função Media(), que vai receber as 2 notas de\n",
        "um aluno e retornar a sua média para o programa principal."
      ],
      "metadata": {
        "id": "6dfRwRXLMqmN"
      }
    },
    {
      "cell_type": "code",
      "source": [
        "a = float(input('Digite um número:   '))\n",
        "b = float(input('Digite outro número:   '))\n",
        "\n",
        "def media(n1,n2):\n",
        "  return (n1 + n2)/2\n",
        "\n",
        "print(f'A média entre {a} e {b} é {media(a,b)}')"
      ],
      "metadata": {
        "id": "RPQFWHMpcbry"
      },
      "execution_count": null,
      "outputs": []
    },
    {
      "cell_type": "markdown",
      "source": [
        "97) Refaça o exercício 91, só que agora em forma de função Maior(), mas faça uma\n",
        "adaptação que vai receber TRÊS números como parâmetro e vai retornar qual foi o\n",
        "maior entre eles."
      ],
      "metadata": {
        "id": "olFTJMk0MseT"
      }
    },
    {
      "cell_type": "code",
      "source": [
        "a = float(input('Digite um número:   '))\n",
        "b = float(input('Digite outro número:   '))\n",
        "c = float(input('Digite outro número:   '))\n",
        "\n",
        "def maior(n1, n2, n3):\n",
        "  if (n1 >= n2) & (n1 >= n3):\n",
        "    return n1\n",
        "  elif (n2 >= n1) & (n2 >= n3):\n",
        "    return n2\n",
        "  elif (n3 >= n2) & (n3 >= n1):\n",
        "    return n3\n",
        "\n",
        "print(f'O maior número é {maior(a, b, c)}')"
      ],
      "metadata": {
        "id": "e8aYZs4icvoR"
      },
      "execution_count": null,
      "outputs": []
    },
    {
      "cell_type": "markdown",
      "source": [
        "98) Crie um programa que tenha uma função SuperSomador(), que vai receber dois\n",
        "números como parâmetro e depois vai retornar a soma de todos os valores no\n",
        "intervalo entre os valores recebidos.\n",
        "\n",
        "Ex:\n",
        "SuperSomador(1, 6) vai somar 1 + 2 + 3 + 4 + 5 + 6 e vai retornar 21\n",
        "SuperSomador(15, 19) vai somar 15 + 16 + 17 + 18 + 19 e vai retornar 85"
      ],
      "metadata": {
        "id": "wKvCBoLBMuNK"
      }
    },
    {
      "cell_type": "code",
      "source": [
        "a = int(input('Digite um número:   '))\n",
        "b = int(input('Digite outro número:   '))\n",
        "\n",
        "def super_soma(n1, n2):\n",
        "  soma = 0\n",
        "  for i in range(n1, n2 + 1):\n",
        "    soma += i\n",
        "  return soma\n",
        "\n",
        "print(super_soma(a,b))"
      ],
      "metadata": {
        "id": "3tQJQUYVesib"
      },
      "execution_count": null,
      "outputs": []
    },
    {
      "cell_type": "markdown",
      "source": [
        "99) Faça um programa que possua uma função chamada Potencia(), que vai receber\n",
        "dois parâmetros numéricos (base e expoente) e vai calcular o resultado da\n",
        "exponenciação.\n",
        "Ex: Potencia(5,2) vai calcular 5**2 = 25\n"
      ],
      "metadata": {
        "id": "wr_VCQbmejHL"
      }
    },
    {
      "cell_type": "code",
      "source": [
        "a = int(input('Digite um número:   '))\n",
        "b = int(input('Digite outro número:   '))\n",
        "\n",
        "def potencia(n1, n2):\n",
        "  pot = n1\n",
        "  for i in range(1,n2):\n",
        "    n1 = pot*n1\n",
        "  return n1\n",
        "\n",
        "print(potencia(a,b))"
      ],
      "metadata": {
        "id": "dp1AmnpofiXe"
      },
      "execution_count": null,
      "outputs": []
    },
    {
      "cell_type": "markdown",
      "source": [
        "100) Melhore o exercício 96, criando além da função Media() uma outra função\n",
        "chamada Situacao(), que vai retornar para o programa principal se o aluno está\n",
        "APROVADO, em RECUPERAÇÃO ou REPROVADO. Essa nova função, vai receber como\n",
        "parâmetro o resultado retornado pela função Media()."
      ],
      "metadata": {
        "id": "BNdRSprkelmc"
      }
    },
    {
      "cell_type": "code",
      "source": [
        "a = float(input('Digite a primeira nota:   '))\n",
        "b = float(input('Digite a segunda nota:   '))\n",
        "\n",
        "def media(n1, n2):\n",
        "  return (n1 + n2)/2\n",
        "\n",
        "def situacao(media):\n",
        "  if media < 4:\n",
        "    return 'Reprovado!'\n",
        "  elif 4 <= media < 6:\n",
        "    return 'Recuperação!'\n",
        "  elif media >= 6:\n",
        "    return 'Aprovado!'\n",
        "\n",
        "print(f'Situação: Sua média foi {media(a,b)} pontos, você está {situacao(media(a,b))}')"
      ],
      "metadata": {
        "id": "I0cNeEtPhE88"
      },
      "execution_count": null,
      "outputs": []
    }
  ]
}
