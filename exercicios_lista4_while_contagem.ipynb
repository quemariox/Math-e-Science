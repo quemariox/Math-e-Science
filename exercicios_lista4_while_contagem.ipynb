{
  "nbformat": 4,
  "nbformat_minor": 0,
  "metadata": {
    "colab": {
      "private_outputs": true,
      "provenance": [],
      "authorship_tag": "ABX9TyPnvcP69t+xVl0c+VffGXqk",
      "include_colab_link": true
    },
    "kernelspec": {
      "name": "python3",
      "display_name": "Python 3"
    },
    "language_info": {
      "name": "python"
    }
  },
  "cells": [
    {
      "cell_type": "markdown",
      "metadata": {
        "id": "view-in-github",
        "colab_type": "text"
      },
      "source": [
        "<a href=\"https://colab.research.google.com/github/quemariox/Math-e-Science/blob/main/exercicios_lista4_while_contagem.ipynb\" target=\"_parent\"><img src=\"https://colab.research.google.com/assets/colab-badge.svg\" alt=\"Open In Colab\"/></a>"
      ]
    },
    {
      "cell_type": "markdown",
      "source": [
        "# While"
      ],
      "metadata": {
        "id": "d8dP6X_SO9A5"
      }
    },
    {
      "cell_type": "markdown",
      "source": [
        "Em Python, a estrutura de controle de fluxo while é utilizada para executar repetidamente um bloco de código enquanto uma condição específica for verdadeira. É ideal quando você precisa executar um conjunto de instruções repetidamente até que uma condição de parada seja atendida. Aqui estão os aspectos principais sobre o while simples em Python:\n",
        "\n",
        "**Sintaxe Básica:**\n",
        "\n",
        "A sintaxe básica do while em Python é a seguinte:\n",
        "\n",
        "```\n",
        "while condição:\n",
        "bloco de código a ser repetido enquanto a condição for verdadeira\n",
        "```\n",
        "**Exemplo Simples:**"
      ],
      "metadata": {
        "id": "GKX0gPOmO_Of"
      }
    },
    {
      "cell_type": "code",
      "source": [
        "contador = 1\n",
        "\n",
        "while contador <= 5:\n",
        "    print(contador)\n",
        "    contador += 1  # Incrementa o contador para evitar um loop infinito"
      ],
      "metadata": {
        "id": "5bzg4Rj-Po7c"
      },
      "execution_count": null,
      "outputs": []
    },
    {
      "cell_type": "markdown",
      "source": [
        "\n",
        "**Neste exemplo:**\n",
        "\n",
        "    contador é inicializado com 1.\n",
        "    A condição contador <= 5 é verificada antes de cada iteração do loop.\n",
        "    O bloco de código dentro do while imprime o valor atual de contador.\n",
        "    contador += 1 é usado para incrementar o valor de contador a cada iteração, garantindo que o loop eventualmente pare.\n",
        "\n",
        "**Fluxo de Execução:**\n",
        "\n",
        "  1. **Verificação da Condição:** A condição é avaliada inicialmente. Se for verdadeira, o bloco de código dentro do while é executado.\n",
        "  2. **Execução do Bloco de Código:** O código dentro do while é executado.\n",
        "  3. **Atualização da Condição:** Após a execução do bloco de código, a condição é verificada novamente.\n",
        "  4. **Repetição:** O processo continua até que a condição seja avaliada como falsa. Quando a condição se torna falsa, o fluxo de execução do programa continua com a primeira instrução após o while.\n",
        "\n",
        "**Exemplo de Uso Prático:**\n",
        "\n",
        "Um exemplo prático de uso do while é quando você precisa ler dados até que uma condição específica seja atendida, como ler dados de um usuário até que ele digite um valor de parada:\n"
      ],
      "metadata": {
        "id": "blOfDwPeP0Kx"
      }
    },
    {
      "cell_type": "code",
      "source": [
        "dados = []\n",
        "entrada = input(\"Digite um número (ou 'parar' para encerrar): \")\n",
        "\n",
        "while entrada != 'parar':\n",
        "    dados.append(entrada)\n",
        "    entrada = input(\"Digite um número (ou 'parar' para encerrar): \")\n",
        "\n",
        "print(\"Dados digitados:\", dados)"
      ],
      "metadata": {
        "id": "9bAZ6JhyQVr5"
      },
      "execution_count": null,
      "outputs": []
    },
    {
      "cell_type": "markdown",
      "source": [
        "**Neste exemplo:**\n",
        "\n",
        "    O programa solicita que o usuário insira um número repetidamente até que ele digite \"parar\".\n",
        "    Cada número digitado pelo usuário é adicionado à lista dados.\n",
        "    Quando o usuário digita \"parar\", o loop while termina e o programa imprime os dados digitados.\n",
        "\n",
        "**Considerações de Performance:**\n",
        "\n",
        "É importante tomar cuidado ao usar um while para garantir que a condição eventualmente se torne falsa. Caso contrário, você pode acabar com um loop infinito, o que pode travar o programa. Sempre certifique-se de que a condição de parada seja alcançada com base na lógica do seu programa.\n",
        "\n",
        "O while em Python é uma ferramenta poderosa para criar loops que executam repetidamente um conjunto de instruções até que uma condição específica seja satisfeita."
      ],
      "metadata": {
        "id": "mt3kKNa8QKPN"
      }
    },
    {
      "cell_type": "markdown",
      "source": [
        "# Exercícios"
      ],
      "metadata": {
        "id": "tRBk5MlDO5sM"
      }
    },
    {
      "cell_type": "markdown",
      "source": [
        "38) Escreva um programa que mostre na tela a seguinte contagem:\n",
        "6 7 8 9 10 11 Acabou!"
      ],
      "metadata": {
        "id": "1Mk_yt7yiFNA"
      }
    },
    {
      "cell_type": "code",
      "execution_count": null,
      "metadata": {
        "id": "8v5bfIF9iEH_"
      },
      "outputs": [],
      "source": [
        "cont = 6\n",
        "\n",
        "while cont < 12:\n",
        "  print(cont)\n",
        "  cont = cont + 1\n",
        "\n",
        "print('Acabou!')"
      ]
    },
    {
      "cell_type": "markdown",
      "source": [
        "39) Faça um algoritmo que mostre na tela a seguinte contagem:\n",
        "10 9 8 7 6 5 4 3 Acabou!"
      ],
      "metadata": {
        "id": "HXrlin3HiJKr"
      }
    },
    {
      "cell_type": "code",
      "source": [
        "cont = 10\n",
        "\n",
        "while cont >= 3:\n",
        "  print(cont)\n",
        "  cont = cont - 1\n",
        "\n",
        "print('Acabou!')"
      ],
      "metadata": {
        "id": "mfdUJJZEjvj7"
      },
      "execution_count": null,
      "outputs": []
    },
    {
      "cell_type": "markdown",
      "source": [
        "40) Crie um aplicativo que mostre na tela a seguinte contagem:\n",
        "0 3 6 9 12 15 18 Acabou!"
      ],
      "metadata": {
        "id": "I-6QBnhhiNlO"
      }
    },
    {
      "cell_type": "code",
      "source": [
        "cont = 0\n",
        "\n",
        "while cont <= 18:\n",
        "  print(cont)\n",
        "  cont = cont + 3\n",
        "\n",
        "print('Acabou!')"
      ],
      "metadata": {
        "id": "6Ei6almuj_Uq"
      },
      "execution_count": null,
      "outputs": []
    },
    {
      "cell_type": "markdown",
      "source": [
        "41) Desenvolva um programa que mostre na tela a seguinte contagem:\n",
        "100 95 90 85 80 ... 0 Acabou!"
      ],
      "metadata": {
        "id": "kYj5kIusiQUO"
      }
    },
    {
      "cell_type": "code",
      "source": [
        "cont = 100\n",
        "\n",
        "while cont >= 0:\n",
        "  print(cont)\n",
        "  cont = cont - 10\n",
        "\n",
        "print('Acabou!')"
      ],
      "metadata": {
        "id": "PdH21GBNkPSl"
      },
      "execution_count": null,
      "outputs": []
    },
    {
      "cell_type": "markdown",
      "source": [
        "42) Faça um algoritmo que pergunte ao usuário um número inteiro e positivo qualquer e mostre uma contagem até esse valor:\n",
        "Ex: Digite um valor: 35\n",
        "Contagem: 1 2 3 4 5 6 7 ... 33 34 35 Acabou!"
      ],
      "metadata": {
        "id": "BlJzpjXZiTUS"
      }
    },
    {
      "cell_type": "code",
      "source": [
        "num = int(input('Digite um inteiro positivo: '))\n",
        "cont = 1\n",
        "\n",
        "while cont <= num:\n",
        "  print(cont)\n",
        "  cont = cont + 1\n",
        "\n",
        "print('Acabou!')"
      ],
      "metadata": {
        "id": "I7LdhC3rkjNm"
      },
      "execution_count": null,
      "outputs": []
    },
    {
      "cell_type": "markdown",
      "source": [
        "43) Desenvolva um algoritmo que mostre uma contagem regressiva de 30 até 1,\n",
        "marcando os números que forem divisíveis por 4, exatamente como mostrado abaixo:\n",
        "30 29 [28] 27 26 25 [24] 23 22 21 [20] 19 18 17 [16]..."
      ],
      "metadata": {
        "id": "s90BAuX9iZg6"
      }
    },
    {
      "cell_type": "code",
      "source": [
        "cont = 30\n",
        "\n",
        "while cont >= 1:\n",
        "  if cont%4 == 0:\n",
        "    print(f'[{cont}]')\n",
        "  else:\n",
        "    print(cont)\n",
        "  cont = cont - 1\n",
        "\n",
        "print('Acabou!')"
      ],
      "metadata": {
        "id": "h6E-Sudgk7TJ"
      },
      "execution_count": null,
      "outputs": []
    },
    {
      "cell_type": "markdown",
      "source": [
        "44) Crie um algoritmo que leia o valor inicial da contagem, o valor final e o\n",
        "incremento, mostrando em seguida todos os valores no intervalo:\n",
        "Ex: Digite o primeiro Valor: 3\n",
        "Digite o último Valor: 10\n",
        "Digite o incremento: 2\n",
        "Contagem: 3 5 7 9 Acabou!"
      ],
      "metadata": {
        "id": "OqCSe7oaifhA"
      }
    },
    {
      "cell_type": "code",
      "source": [
        "inicial = int(input('Digite um número inteiro para iniciar a contagem: '))\n",
        "final = int(input('Digite um número inteiro para encerrar a contagem: '))\n",
        "incremento = int(input('Digite o valor do incremento: '))\n",
        "\n",
        "while inicial <= final:\n",
        "  print(inicial)\n",
        "  inicial = inicial + incremento\n",
        "\n",
        "print('Acabou!')"
      ],
      "metadata": {
        "id": "n4AIfvsFleid"
      },
      "execution_count": null,
      "outputs": []
    },
    {
      "cell_type": "markdown",
      "source": [
        "45) O programa acima vai ter um problema quando digitarmos o primeiro valor\n",
        "maior que o último. Resolva esse problema com um código que funcione em qualquer\n",
        "situação.\n"
      ],
      "metadata": {
        "id": "odbZEWgXijvg"
      }
    },
    {
      "cell_type": "code",
      "source": [
        "inicial = int(input('Digite um número inteiro para iniciar a contagem: '))\n",
        "final = int(input('Digite um número inteiro para encerrar a contagem: '))\n",
        "incremento = int(input('Digite o valor do incremento: '))\n",
        "\n",
        "if final > inicial:\n",
        "  while inicial <= final:\n",
        "    print(inicial)\n",
        "    inicial = inicial + incremento\n",
        "elif inicial > final:\n",
        "  while final <= inicial:\n",
        "    print(final)\n",
        "    final = final + incremento\n",
        "\n",
        "print('Acabou!')"
      ],
      "metadata": {
        "id": "SbcC49pOmQNp"
      },
      "execution_count": null,
      "outputs": []
    },
    {
      "cell_type": "markdown",
      "source": [
        "46) Crie um programa que calcule e mostre na tela o resultado da soma entre 6 + 8 + 10 + 12 + 14 + ... +\n",
        "98 + 100.\n"
      ],
      "metadata": {
        "id": "afbIi5AiiohO"
      }
    },
    {
      "cell_type": "code",
      "source": [
        "cont = 6\n",
        "soma = 6\n",
        "\n",
        "while cont <= 100:\n",
        "  cont = cont + 2\n",
        "  #print(cont)\n",
        "  soma = soma + cont\n",
        "  print(soma)\n",
        "\n",
        "print(f'A soma deu {soma}.')\n"
      ],
      "metadata": {
        "id": "Giqq4cJ3n0gv"
      },
      "execution_count": null,
      "outputs": []
    },
    {
      "cell_type": "markdown",
      "source": [
        "47) Desenvolva um aplicativo que mostre na tela o resultado da expressão 500 + 450 + 400 + 350 + 300 + ... + 50 + 0\n"
      ],
      "metadata": {
        "id": "B6UImai3nZck"
      }
    },
    {
      "cell_type": "code",
      "source": [
        "cont = 500\n",
        "soma = 500\n",
        "\n",
        "while cont > 0:\n",
        "  cont = cont - 50\n",
        "  soma = soma + cont\n",
        "  #print(cont)\n",
        "  print(soma)"
      ],
      "metadata": {
        "id": "WuNlAWLTy7kc"
      },
      "execution_count": null,
      "outputs": []
    },
    {
      "cell_type": "markdown",
      "source": [
        "48) Faça um programa que leia 7 números inteiros e no final mostre o somatório entre eles.\n"
      ],
      "metadata": {
        "id": "nf4aDpesncuE"
      }
    },
    {
      "cell_type": "code",
      "source": [
        "cont = 1\n",
        "soma = 0\n",
        "\n",
        "while cont <= 7:\n",
        "  num = int(input('Digite um número inteiro: '))\n",
        "  soma = soma + num\n",
        "  #print(soma)\n",
        "  cont = cont + 1\n",
        "\n",
        "print(f'A soma deu {soma}.')"
      ],
      "metadata": {
        "id": "iOaLHEYazV_1"
      },
      "execution_count": null,
      "outputs": []
    },
    {
      "cell_type": "markdown",
      "source": [
        "49) Crie um programa que leia 6 números inteiros e no final mostre quantos deles são pares e quantos são ímpares.\n"
      ],
      "metadata": {
        "id": "SfjHDEucnfOR"
      }
    },
    {
      "cell_type": "code",
      "source": [
        "cont = 1\n",
        "pares = 0\n",
        "impares = 0\n",
        "\n",
        "while cont <= 6:\n",
        "  num = int(input('Digite um número inteiro: '))\n",
        "  if num%2 == 0:\n",
        "    pares = pares + 1\n",
        "  else:\n",
        "    impares = impares + 1\n",
        "  cont = cont + 1\n",
        "print(f'Temos {pares} números pares e {impares} números ímpares.')"
      ],
      "metadata": {
        "id": "mq9-QP7Z0YFm"
      },
      "execution_count": null,
      "outputs": []
    },
    {
      "cell_type": "markdown",
      "source": [
        "50) Desenvolva um programa que faça o sorteio de 20 números entre 0 e 10 e mostre na tela:\n",
        "\n",
        "a) Quais foram os números sorteados\n",
        "\n",
        "b) Quantos números estão acima de 5\n",
        "\n",
        "c) Quantos números são divisíveis por 3"
      ],
      "metadata": {
        "id": "i-cOWXEonil7"
      }
    },
    {
      "cell_type": "code",
      "source": [
        "import random\n",
        "\n",
        "cont = 0\n",
        "maiores_que_cinco = 0\n",
        "divisiveis_por_tres = 0\n",
        "\n",
        "while cont <= 20:\n",
        "  num = random.randint(0,10)\n",
        "  print(num)\n",
        "  cont = cont + 1\n",
        "  if num > 5:\n",
        "    maiores_que_cinco = maiores_que_cinco + 1\n",
        "  elif num%3 == 0:\n",
        "    divisiveis_por_tres = divisiveis_por_tres + 1\n",
        "\n",
        "print(f' Temos {maiores_que_cinco} números maiores que 5 \\n e {divisiveis_por_tres} números são divisíveis por 3.')"
      ],
      "metadata": {
        "id": "vjUAIzbK1eT-"
      },
      "execution_count": null,
      "outputs": []
    },
    {
      "cell_type": "markdown",
      "source": [
        "51) Faça um aplicativo que leia o preço de 8 produtos. No final, mostre na tela qual foi o maior e qual foi o menor preço digitados.\n"
      ],
      "metadata": {
        "id": "Ye456Opqnmb4"
      }
    },
    {
      "cell_type": "code",
      "source": [
        "cont = 1\n",
        "maior = 0\n",
        "menor = 10**10\n",
        "\n",
        "while cont <= 82:\n",
        "  preco = float(input('Digite o preço do produto: '))\n",
        "  if preco > maior:\n",
        "    maior = preco\n",
        "    #print(maior)\n",
        "  if preco < menor:\n",
        "    menor = preco\n",
        "    #print(menor)\n",
        "  cont = cont + 1\n",
        "\n",
        "print(f' O maior preço foi R$ {maior} reais \\n O menor preço foi R$ {menor} reais')\n"
      ],
      "metadata": {
        "id": "R2NcuYyD3jod"
      },
      "execution_count": null,
      "outputs": []
    },
    {
      "cell_type": "markdown",
      "source": [
        "52) Crie um algoritmo que leia a idade de 10 pessoas, mostrando no final:\n",
        "\n",
        "a) Qual é a média de idade do grupo\n",
        "\n",
        "b) Quantas pessoas tem mais de 18 anos\n",
        "\n",
        "c) Quantas pessoas tem menos de 5 anos\n",
        "\n",
        "d) Qual foi a maior idade lida\n"
      ],
      "metadata": {
        "id": "bgPSW_XnnpGU"
      }
    },
    {
      "cell_type": "code",
      "source": [
        "cont = 1\n",
        "idade = soma = maior = mais_18 = menos_5 = 0\n",
        "\n",
        "while cont <= 10:\n",
        "  idade = int(input(f'Digite a {cont}ª2 idade: '))\n",
        "  #print(idade)\n",
        "  soma = soma + idade\n",
        "  if idade > 18:\n",
        "    mais_18 = mais_18 + 1\n",
        "  elif idade < 5:\n",
        "    menos_5 = menos_5 + 1\n",
        "  if idade > maior:\n",
        "    maior = idade\n",
        "\n",
        "  cont = cont + 1\n",
        "\n",
        "media = soma/(cont - 1)\n",
        "\n",
        "print(f\"A média das idades é {media}.\")\n",
        "print(f\" {mais_18} pessoas com mais de 18 anos \\n {menos_5} pessoas com menos de 5 anos.\")\n",
        "print(f\" A maior idade foi {maior} anos.\")"
      ],
      "metadata": {
        "id": "cHYA0aCVCool"
      },
      "execution_count": null,
      "outputs": []
    },
    {
      "cell_type": "markdown",
      "source": [
        "53) Faça um programa que leia a idade e o sexo de 5 pessoas, mostrando no final:\n",
        "\n",
        "a) Quantos homens foram cadastrados\n",
        "\n",
        "b) Quantas mulheres foram cadastradas\n",
        "\n",
        "c) A média de idade do grupo\n",
        "\n",
        "d) A média de idade dos homens\n",
        "\n",
        "e) Quantas mulheres tem mais de 20 anos"
      ],
      "metadata": {
        "id": "nt6-Gb9-nr7L"
      }
    },
    {
      "cell_type": "code",
      "source": [
        "cont = 1\n",
        "idade = soma = sexo = num_homens = soma_idade_homens = num_mulheres = mulheres_mais_20 = 0\n",
        "while cont <= 5:\n",
        "  idade =  int(input('Qual é a sua idade? '))\n",
        "  sexo = int(input(' masculino [0] \\n feminino [1] \\n'))\n",
        "  soma = soma + idade\n",
        "\n",
        "  if sexo == 0:\n",
        "    num_homens = num_homens + 1\n",
        "    soma_idade_homens = soma_idade_homens + 1\n",
        "  elif sexo == 1:\n",
        "    num_mulheres = num_mulheres + 1\n",
        "    if idade > 20:\n",
        "      mulheres_mais_20 = mulheres_mais_20 + 1\n",
        "\n",
        "  cont = cont + 1\n",
        "\n",
        "print(f'Temos {num_homens} homens cadastrados.')\n",
        "print(f'Temos {num_mulheres} mulheres cadastradas.')\n",
        "print(f'A média das idades é {soma/(cont - 1} anos. ')\n",
        "print(f'Temos {mulheres_mais_20} mulheres com mais de 20 anos.')"
      ],
      "metadata": {
        "id": "QIrjseleIkII"
      },
      "execution_count": null,
      "outputs": []
    },
    {
      "cell_type": "markdown",
      "source": [
        "54) Desenvolva um aplicativo que leia o peso e a altura de 7 pessoas, mostrando no final:\n",
        "\n",
        "a) Qual foi a média de altura do grupo\n",
        "\n",
        "b) Quantas pessoas pesam mais de 90Kg\n",
        "\n",
        "c) Quantas pessoas que pesam menos de 50Kg tem menos de 1.60m\n",
        "\n",
        "d) Quantas pessoas que medem mais de 1.90m pesam mais de 100Kg."
      ],
      "metadata": {
        "id": "s8W-pgwZnuKW"
      }
    },
    {
      "cell_type": "code",
      "source": [
        "peso = altura = soma_alturas = media_alturas = 0\n",
        "pesados = leves_baixos = pesados_altos = pesados_altos = 0\n",
        "cont = 1\n",
        "\n",
        "while cont <= 7:\n",
        "  peso = float(input('Qual é o seu peso?   '))\n",
        "  altura = float(input('Qual é a sua altura?   '))\n",
        "  print('\\n')\n",
        "\n",
        "  soma_alturas = soma_alturas + altura\n",
        "  if peso > 90:\n",
        "    pesados = pesados + 1\n",
        "  if (peso < 50) & (altura < 1.6):\n",
        "    leves_baixos = leves_baixos + 1\n",
        "  if (peso > 100) & (altura > 1.9):\n",
        "    pesados_altos = pesados_altos + 1\n",
        "\n",
        "  cont = cont + 1\n",
        "\n",
        "media_alturas = soma_alturas/(cont - 1)\n",
        "\n",
        "print(f\"\"\" A média das alturas foi {media_alturas} m. \\n\n",
        "{pesados} pessoas pesam mais de 90 Kg. \\n\n",
        "{leves_baixos} pessoas tem menos de 50 Kg e 1.60 m \\n\n",
        "{pesados_altos} pessoas tem mais de 100 kg e 1.90 m\"\"\")"
      ],
      "metadata": {
        "id": "qiCQNRxlK36_"
      },
      "execution_count": null,
      "outputs": []
    },
    {
      "cell_type": "markdown",
      "source": [
        "55) [DESAFIO] Vamos melhorar o jogo que fizemos no exercício 32. A partir de agora, o computador vai sortear um número entre 1 e 10 e o jogador vai ter 4 tentativas para tentar acertar."
      ],
      "metadata": {
        "id": "EJJkvfS9nv-J"
      }
    },
    {
      "cell_type": "code",
      "source": [
        "import random\n",
        "\n",
        "num = random.randint(1,10)\n",
        "print(num)\n",
        "cont = 1\n",
        "\n",
        "while cont <= 4:\n",
        "  palpite = int(input('Digite um número de 1 a 10:    '))\n",
        "  if palpite == num:\n",
        "    print(f'Você ACERTOU !!! O número era {num}.')\n",
        "    cont = 5\n",
        "  else:\n",
        "    print(f'Você ERROU !!! Tem mais {4 - cont} chances.')\n",
        "    cont = cont + 1\n"
      ],
      "metadata": {
        "id": "b9ay9yqLNvct"
      },
      "execution_count": null,
      "outputs": []
    }
  ]
}