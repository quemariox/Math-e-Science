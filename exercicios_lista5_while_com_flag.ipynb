{
  "nbformat": 4,
  "nbformat_minor": 0,
  "metadata": {
    "colab": {
      "private_outputs": true,
      "provenance": [],
      "authorship_tag": "ABX9TyP4M1VBFwEU7rsmsbb+eDqV",
      "include_colab_link": true
    },
    "kernelspec": {
      "name": "python3",
      "display_name": "Python 3"
    },
    "language_info": {
      "name": "python"
    }
  },
  "cells": [
    {
      "cell_type": "markdown",
      "metadata": {
        "id": "view-in-github",
        "colab_type": "text"
      },
      "source": [
        "<a href=\"https://colab.research.google.com/github/quemariox/Math-e-Science/blob/main/exercicios_lista5_while_com_flag.ipynb\" target=\"_parent\"><img src=\"https://colab.research.google.com/assets/colab-badge.svg\" alt=\"Open In Colab\"/></a>"
      ]
    },
    {
      "cell_type": "markdown",
      "source": [
        "# While com flag"
      ],
      "metadata": {
        "id": "0ovctu9QRVqS"
      }
    },
    {
      "cell_type": "markdown",
      "source": [
        "O uso de um \"flag\" em um loop while em Python refere-se à utilização de uma variável booleana (geralmente chamada de \"flag\") para controlar a execução do loop. Essa técnica é útil quando você precisa interromper o loop com base em uma condição que pode não ser diretamente avaliada pela expressão do while inicialmente.\n",
        "Funcionamento Básico\n",
        "\n",
        "  1. **Flag:** É uma variável booleana que serve como um sinalizador para controlar o fluxo do loop.\n",
        "  2. **Loop while:** Continua a ser executado enquanto a flag estiver configurada como True.\n",
        "  3. **Alteração da Flag:** O loop pode modificar a flag dentro de seu corpo, dependendo de certas condições, para determinar quando o loop deve terminar.\n",
        "\n",
        "**Exemplo Simples:**"
      ],
      "metadata": {
        "id": "HmzSj-mURYfA"
      }
    },
    {
      "cell_type": "code",
      "source": [
        "# Inicializa a flag como True\n",
        "continuar = True\n",
        "\n",
        "while continuar:\n",
        "    resposta = input(\"Deseja continuar (sim/não)? \")\n",
        "    if resposta.lower() == 'não':\n",
        "        continuar = False\n",
        "\n",
        "print(\"Loop encerrado.\")"
      ],
      "metadata": {
        "id": "AjSK43_FRdD8"
      },
      "execution_count": null,
      "outputs": []
    },
    {
      "cell_type": "markdown",
      "source": [
        "**Neste exemplo:**\n",
        "\n",
        "  1. A flag continuar é inicializada como True.\n",
        "  2. O loop while continua a ser executado enquanto continuar for True.\n",
        "  3. O usuário é solicitado a fornecer uma resposta (sim ou não).\n",
        "  4. Se o usuário digitar \"não\", a flag continuar é definida como False, e o loop termina.\n",
        "\n",
        "**Vantagens do Uso de Flag:**\n",
        "\n",
        "  1. **Flexibilidade:** Permite que você controle a execução do loop com base em condições mais complexas do que simplesmente uma expressão booleana.\n",
        "\n",
        "  2. **Clareza:** Melhora a legibilidade do código ao explicar claramente a condição de saída do loop.\n",
        "\n",
        "  3. **Facilidade de Manutenção:** Facilita a modificação e a expansão do código, pois separa a lógica de controle do loop da lógica interna do loop.\n",
        "\n",
        "**Considerações:**\n",
        "\n",
        "  1. Certifique-se de inicializar corretamente a flag antes do loop.\n",
        "  \n",
        "  2. Atualize a flag dentro do loop conforme necessário para garantir que o loop termine quando desejado.\n",
        "  \n",
        "  3. Use nomes descritivos para suas flags para tornar o código mais compreensível.\n",
        "\n",
        "O uso de flags em loops while é uma prática comum e eficaz em Python para controlar o fluxo de execução com base em condições dinâmicas.\n"
      ],
      "metadata": {
        "id": "tE_E98lyRr1X"
      }
    },
    {
      "cell_type": "markdown",
      "source": [
        "# Exercícios"
      ],
      "metadata": {
        "id": "CPzh3bgpRS1F"
      }
    },
    {
      "cell_type": "markdown",
      "source": [
        "56) Crie um programa que leia vários números pelo teclado e mostre no final o somatório entre eles.\n",
        "Obs: O programa será interrompido quando o número 1111 for digitado\n"
      ],
      "metadata": {
        "id": "Yo3qLfdnQ0x9"
      }
    },
    {
      "cell_type": "code",
      "execution_count": null,
      "metadata": {
        "id": "56LYKQQ6QprP"
      },
      "outputs": [],
      "source": [
        "soma = num = 0\n",
        "continuar = True\n",
        "\n",
        "while continuar:\n",
        "  num = int(input('Digite um número:  '))\n",
        "\n",
        "  if num == 1111:\n",
        "    continuar = False\n",
        "  else:\n",
        "    soma = soma + num\n",
        "\n",
        "print(f'A soma dos números é: {soma}')"
      ]
    },
    {
      "cell_type": "markdown",
      "source": [
        "57) Desenvolva um aplicativo que leia o salário e o sexo de vários funcionários. No final, mostre o total de salários pagos aos homens e o total pago às mulheres. O programa vai perguntar ao usuário se ele quer continuar ou não sempre que ler os dados de um funcionário.\n"
      ],
      "metadata": {
        "id": "J7PaXZ54Q8a0"
      }
    },
    {
      "cell_type": "code",
      "source": [
        "continuar = True\n",
        "soma_h = soma_m = 0\n",
        "\n",
        "while continuar:\n",
        "  quer_continuar = str(input('Deseja continuar: Sim [s], Não [n]   '))\n",
        "  if quer_continuar == 'n':\n",
        "    continuar = False\n",
        "  else:\n",
        "    salario = float(input('Qual o valor do seu salário?   '))\n",
        "    sexo = str(input('Sexo: Masc [m], Fem [f]  '))\n",
        "    print('\\n')\n",
        "\n",
        "    if sexo == 'm':\n",
        "      soma_h = soma_h + salario\n",
        "    elif sexo == 'f':\n",
        "      soma_m = soma_m + salario\n",
        "\n",
        "print(f\" Total pago aos homens: {soma_h} reais \\n Total pago às mulheres: {soma_m} reais\")"
      ],
      "metadata": {
        "id": "T2XOe7vkRAvV"
      },
      "execution_count": null,
      "outputs": []
    },
    {
      "cell_type": "markdown",
      "source": [
        "58) Faça um algoritmo que leia a idade de vários alunos de uma turma. O programa vai parar quando for digitada a idade 999. No final, mostre quantos alunos existem na turma e qual é a média de idade do grupo.\n",
        "\n"
      ],
      "metadata": {
        "id": "MSJM2ZfdRBHb"
      }
    },
    {
      "cell_type": "code",
      "source": [
        "continuar = True\n",
        "idade = num_alunos = soma = 0\n",
        "\n",
        "while continuar:\n",
        "  idade = int(input('Qual a idade do aluno?  '))\n",
        "\n",
        "  if idade == 999:\n",
        "    continuar = False\n",
        "    print('\\n')\n",
        "  else:\n",
        "    soma += idade\n",
        "    num_alunos += 1\n",
        "\n",
        "print(f'A turma tem {num_alunos} alunos e a média das idades é {soma/num_alunos} anos.')\n"
      ],
      "metadata": {
        "id": "i4BIS0iYRDjE"
      },
      "execution_count": null,
      "outputs": []
    },
    {
      "cell_type": "markdown",
      "source": [
        "59) Crie um programa que leia o sexo e a idade de várias pessoas. O programa vai perguntar se o usuário quer continuar ou não a cada pessoa. No final, mostre:\n",
        "\n",
        "a) qual é a maior idade lida\n",
        "\n",
        "b) quantos homens foram cadastrados\n",
        "\n",
        "c) qual é a idade da mulher mais jovem\n",
        "\n",
        "d) qual é a média de idade entre os homens\n"
      ],
      "metadata": {
        "id": "G3oW_jlIRD_i"
      }
    },
    {
      "cell_type": "code",
      "source": [
        "continuar = True\n",
        "num_h = soma_h = maior = 0\n",
        "menor = 10**10\n",
        "\n",
        "while continuar:\n",
        "  deseja_continuar = str(input('Deseja adicionar mais pessoas? SIM [s], NÃO [n]   '))\n",
        "\n",
        "  if deseja_continuar == 'n':\n",
        "    continuar = False\n",
        "    print('\\n')\n",
        "  else:\n",
        "    sexo = str(input('Sexo: Masc [m], Fem[f]   '))\n",
        "    idade = int(input('Idade:   '))\n",
        "    print('\\n')\n",
        "\n",
        "    if idade > maior:\n",
        "      maior = idade\n",
        "    if sexo == 'm':\n",
        "      num_h += 1\n",
        "      soma_h += idade\n",
        "    if (sexo == 'f') & (menor > idade):\n",
        "      menor = idade\n",
        "\n",
        "print(f\"\"\" A maior idade foi {maior} anos. \\n\n",
        "{num_h} homens foram cadastrados. \\n\n",
        "A mulher mais jovem tem {menor} anos. \\n\n",
        "A média de idade entre os homens é {soma_h/num_h} anos.\"\"\")\n",
        "\n",
        "\n",
        "\n"
      ],
      "metadata": {
        "id": "L1VuRn2bRIBz"
      },
      "execution_count": null,
      "outputs": []
    },
    {
      "cell_type": "markdown",
      "source": [
        "60) Desenvolva um algoritmo que leia o nome, a idade e o sexo de várias pessoas. O programa vai perguntar se o usuário quer ou não continuar. No final, mostre:\n",
        "\n",
        "a) O nome da pessoa mais velha\n",
        "\n",
        "b) O nome da mulher mais jovem\n",
        "\n",
        "c) A média de idade do grupo\n",
        "\n",
        "d) Quantos homens tem mais de 30 anos\n",
        "\n",
        "e) Quantas mulheres tem menos de 18 anos"
      ],
      "metadata": {
        "id": "o4OwpydARIeA"
      }
    },
    {
      "cell_type": "code",
      "source": [
        "continuar = True\n",
        "maior_idade = soma_idades = num_pessoas = homens_mais_30 = mulheres_menos_18 = 0\n",
        "menor_idade = 10*10\n",
        "pessoa_mais_velha = mulher_mais_jovem = ''\n",
        "\n",
        "while continuar:\n",
        "  print('\\n')\n",
        "  quer_continuar = str(input('Inserir mais dados: SIM [s], NÃO [n]  '))\n",
        "\n",
        "  if quer_continuar == 'n':\n",
        "    continuar = False\n",
        "  else:\n",
        "    nome = str(input('Insira o nome:   '))\n",
        "    idade = int(input('Insira a idade:   '))\n",
        "    sexo = str(input('Sexo: Masc [m], Fem [f]  '))\n",
        "\n",
        "    soma_idades += idade\n",
        "    num_pessoas += 1\n",
        "\n",
        "    if idade > maior_idade:\n",
        "      pessoa_mais_velha = nome\n",
        "      maior_idade = idade\n",
        "    if (sexo == 'f') & (idade < menor_idade):\n",
        "      mulher_mais_jovem = nome\n",
        "      menor_idade = idade\n",
        "    if (sexo == 'm') & (idade > 30):\n",
        "      homens_mais_30 += 1\n",
        "    if (sexo == 'f') & (idade < 18):\n",
        "      mulheres_menos_18 += 1\n",
        "\n",
        "print('\\n')\n",
        "print(f\"\"\" {pessoa_mais_velha} é a pessoa mais velha. \\n\n",
        "{mulher_mais_jovem} é a mulher mais jovem. \\n\n",
        "A idade média do grupo é {soma_idades/num_pessoas} anos. \\n\n",
        "{homens_mais_30} homens tem mais de 30 anos.\n",
        "{mulheres_menos_18} mulheres tem menos de 18 anos.\"\"\")\n",
        "\n"
      ],
      "metadata": {
        "id": "d3X6lTM8n2ar"
      },
      "execution_count": null,
      "outputs": []
    }
  ]
}