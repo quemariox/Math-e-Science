{
  "nbformat": 4,
  "nbformat_minor": 0,
  "metadata": {
    "colab": {
      "private_outputs": true,
      "provenance": [],
      "authorship_tag": "ABX9TyMEhyrYmgjjuAHjgz5/3LMz",
      "include_colab_link": true
    },
    "kernelspec": {
      "name": "python3",
      "display_name": "Python 3"
    },
    "language_info": {
      "name": "python"
    }
  },
  "cells": [
    {
      "cell_type": "markdown",
      "metadata": {
        "id": "view-in-github",
        "colab_type": "text"
      },
      "source": [
        "<a href=\"https://colab.research.google.com/github/quemariox/Math-e-Science/blob/main/exercicios_lista7_for.ipynb\" target=\"_parent\"><img src=\"https://colab.research.google.com/assets/colab-badge.svg\" alt=\"Open In Colab\"/></a>"
      ]
    },
    {
      "cell_type": "markdown",
      "source": [
        "# For"
      ],
      "metadata": {
        "id": "1Tb2oCQrkVIJ"
      }
    },
    {
      "cell_type": "markdown",
      "source": [
        "Em Python, `for` é uma estrutura de controle de fluxo usada para iterar sobre uma sequência de elementos. Aqui estão os pontos principais:\n",
        "\n",
        "- **Iteração**: `for` é usado para percorrer elementos em uma sequência, como listas, strings, tuplas, dicionários, etc.\n",
        "\n",
        "- **Sintaxe**: A sintaxe básica do `for` em Python é `for elemento in sequencia:` seguido por um bloco de código indentado.\n",
        "\n",
        "- **Uso comum**: É comumente usado para executar um bloco de código repetidamente para cada elemento na sequência, até que todos os elementos sejam processados.\n",
        "\n",
        "- **Índice opcional**: Pode ser usado com a função `range()` para gerar uma sequência de números que pode ser iterada.\n",
        "\n",
        "**Exemplo:**"
      ],
      "metadata": {
        "id": "GuSpp2vSkXBH"
      }
    },
    {
      "cell_type": "code",
      "source": [
        "nomes = [\"Alice\", \"Bob\", \"Carol\"]\n",
        "\n",
        "for nome in nomes:\n",
        "    print(nome)"
      ],
      "metadata": {
        "id": "eclKzYjski84"
      },
      "execution_count": null,
      "outputs": []
    },
    {
      "cell_type": "markdown",
      "source": [
        "# Exercícios"
      ],
      "metadata": {
        "id": "U1UIWTVHkSN8"
      }
    },
    {
      "cell_type": "markdown",
      "source": [
        "64) Desenvolva um programa usando a estrutura “para” que mostre na tela a seguinte contagem:\n",
        "0 5 10 15 20 25 30 35 40 Acabou!"
      ],
      "metadata": {
        "id": "zK-JvFfL7Jsc"
      }
    },
    {
      "cell_type": "code",
      "execution_count": null,
      "metadata": {
        "id": "laM_LSMg6-ev"
      },
      "outputs": [],
      "source": [
        "for i in range (0, 45, 5):\n",
        "  print(i, end=' ')\n",
        "print('Acabou! \\n')\n"
      ]
    },
    {
      "cell_type": "markdown",
      "source": [
        "65) Desenvolva um programa usando a estrutura “para” que mostre na tela a seguinte contagem:\n",
        "100 90 80 70 60 50 40 30 20 10 0 Acabou!\n"
      ],
      "metadata": {
        "id": "x232Srgy7QrN"
      }
    },
    {
      "cell_type": "code",
      "source": [
        "for i in range (100, -10, -10):\n",
        "  print(i, end=' ')\n",
        "print('Acabou! \\n')"
      ],
      "metadata": {
        "id": "4ZSYtWgg9RWy"
      },
      "execution_count": null,
      "outputs": []
    },
    {
      "cell_type": "markdown",
      "source": [
        "66) Escreva um programa que leia um número qualquer e mostre a tabuada desse número, usando a estrutura “para”.\n",
        "Ex: Digite um valor: 5\n",
        "\n",
        "5 x 1 = 5\n",
        "\n",
        "5 x 2 = 10\n",
        "\n",
        "5 x 3 = 15 ..."
      ],
      "metadata": {
        "id": "kv-YmwLA7S2Q"
      }
    },
    {
      "cell_type": "code",
      "source": [
        "num = float(input('Digite um número:   '))\n",
        "\n",
        "for i in range (0, 11, 1):\n",
        "  print(f'{num} x {i} = {num*i}')\n",
        "print('Acabou! \\n')"
      ],
      "metadata": {
        "id": "nLbTGOKg9rID"
      },
      "execution_count": null,
      "outputs": []
    },
    {
      "cell_type": "markdown",
      "source": [
        "67) Faça um programa usando a estrutura “para” que leia um número inteiro positivo e mostre na tela uma contagem de 0 até o valor digitado:\n",
        "Ex: Digite um valor: 9\n",
        "Contagem: 0, 1, 2, 3, 4, 5, 6, 7, 8, 9, FIM!"
      ],
      "metadata": {
        "id": "HF6-T8ul-kQE"
      }
    },
    {
      "cell_type": "code",
      "source": [
        "num = int(input('Digite um número inteiro:   '))\n",
        "\n",
        "for i in range (0, num + 1):\n",
        "  print(i, end=' ')\n",
        "print('Acabou! \\n')"
      ],
      "metadata": {
        "id": "muC9bWKy-uZg"
      },
      "execution_count": null,
      "outputs": []
    },
    {
      "cell_type": "markdown",
      "source": [
        "68) Crie um programa que leia sexo e peso de 8 pessoas, usando a estrutura “para”. No final, mostre na tela:\n",
        "\n",
        "a) Quantas mulheres foram cadastradas\n",
        "\n",
        "b) Quantos homens pesam mais de 100Kg\n",
        "\n",
        "c) A média de peso entre as mulheres\n",
        "\n",
        "d) O maior peso entre os homens"
      ],
      "metadata": {
        "id": "A-GNGbk3-u0Y"
      }
    },
    {
      "cell_type": "code",
      "source": [
        "num_f = total_peso_f = maior = mais_100 = 0\n",
        "\n",
        "\n",
        "for i in range (0, 7):\n",
        "  sexo = str(input('Sexo: Masc [m] Fem [f]   '))\n",
        "  peso = float(input('Peso:   '))\n",
        "\n",
        "  if sexo == 'f':\n",
        "    num_f += 1\n",
        "    total_peso_f += peso\n",
        "  if sexo == 'm':\n",
        "    if peso > 100:\n",
        "      mais_100 += 1\n",
        "    if peso > maior:\n",
        "      maior = peso\n",
        "\n",
        "print('\\n')\n",
        "print(f\"\"\"{num_f} mulheres foram cadastradas. \\n\n",
        "{mais_100} homens pesam mais de 100 Kg. \\n\n",
        "A média de peso entre as múlheres é de {total_peso_f/num_f} Kg. \\n\n",
        "O maior peso entre os homens é de {maior} Kg. \"\"\")"
      ],
      "metadata": {
        "id": "dUekSWM4-067"
      },
      "execution_count": null,
      "outputs": []
    },
    {
      "cell_type": "markdown",
      "source": [
        "69) [DESAFIO] Desenvolva um programa que leia o primeiro termo e a razão de uma PA (Progressão Aritmética), mostrando na tela os 10 primeiros elementos da PA e a soma entre todos os valores da sequência."
      ],
      "metadata": {
        "id": "L1o4Aca4-1UO"
      }
    },
    {
      "cell_type": "code",
      "source": [
        "primeiro = int(input('Qual é o primeiro termo da P.A.?   '))\n",
        "razao = int(input('Qual é a razão da P.A.?   '))\n",
        "\n",
        "for i in range (0,10):\n",
        "  termo = primeiro + razao*i\n",
        "  print(termo, end=' ')"
      ],
      "metadata": {
        "id": "ryFRBvu0-49h"
      },
      "execution_count": null,
      "outputs": []
    },
    {
      "cell_type": "markdown",
      "source": [
        "70) [DESAFIO] Faça um programa que mostre os 10 primeiros elementos da Sequência de Fibonacci:\n",
        "1 1 2 3 5 8 13 21..."
      ],
      "metadata": {
        "id": "ojOq0o08-5g8"
      }
    },
    {
      "cell_type": "code",
      "source": [
        "n = int(input(\"Quantos termos da sequência de Fibonacci você deseja ver? \"))\n",
        "\n",
        "t1 = 1\n",
        "t2 = 1\n",
        "print(t1, end=' ')\n",
        "print(t2, end=' ')\n",
        "\n",
        "for i in range(n):\n",
        "    t3 = t1 + t2\n",
        "    print(t3, end=' ')\n",
        "    t1 = t2\n",
        "    t2= t3\n",
        "print(\"Fim da sequência!\")"
      ],
      "metadata": {
        "id": "oUuTiqpyCf1C"
      },
      "execution_count": null,
      "outputs": []
    }
  ]
}