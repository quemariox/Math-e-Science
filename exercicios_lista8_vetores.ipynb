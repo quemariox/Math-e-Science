{
  "nbformat": 4,
  "nbformat_minor": 0,
  "metadata": {
    "colab": {
      "private_outputs": true,
      "provenance": [],
      "authorship_tag": "ABX9TyODNNeyp3A3vLWMlSxaZ/iM",
      "include_colab_link": true
    },
    "kernelspec": {
      "name": "python3",
      "display_name": "Python 3"
    },
    "language_info": {
      "name": "python"
    }
  },
  "cells": [
    {
      "cell_type": "markdown",
      "metadata": {
        "id": "view-in-github",
        "colab_type": "text"
      },
      "source": [
        "<a href=\"https://colab.research.google.com/github/quemariox/Math-e-Science/blob/main/exercicios_lista8_vetores.ipynb\" target=\"_parent\"><img src=\"https://colab.research.google.com/assets/colab-badge.svg\" alt=\"Open In Colab\"/></a>"
      ]
    },
    {
      "cell_type": "markdown",
      "source": [
        "# Listas (Vetores)"
      ],
      "metadata": {
        "id": "gdp-vbxFjmFd"
      }
    },
    {
      "cell_type": "markdown",
      "source": [
        "Listas em Python são estruturas de dados que permitem armazenar uma coleção ordenada de itens. Aqui estão os pontos principais:\n",
        "\n",
        "- **Definição**: Uma lista é definida por colchetes `[ ]` e contém itens separados por vírgulas.\n",
        "  \n",
        "- **Mutabilidade**: Listas são mutáveis, o que significa que os itens podem ser alterados, adicionados ou removidos após a criação da lista.\n",
        "\n",
        "- **Indexação**: Os itens em uma lista são acessados por meio de índices numéricos baseados em zero. Exemplo: `minha_lista[0]` acessa o primeiro item.\n",
        "\n",
        "- **Tipos de Dados**: Listas podem conter itens de diferentes tipos de dados, como inteiros, strings, ou até outras listas.\n",
        "\n",
        "- **Métodos**: Listas têm métodos incorporados, como `append()`, `insert()`, `remove()`, `pop()`, `sort()` e `len()`, que permitem modificar e manipular a lista.\n",
        "\n",
        "- **Iteração**: Você pode iterar pelos itens de uma lista usando loops `for`, o que é útil para processar todos os elementos sequencialmente.\n",
        "\n",
        "Listas são fundamentais em Python devido à sua flexibilidade e à capacidade de armazenar coleções de dados de forma ordenada e acessível."
      ],
      "metadata": {
        "id": "1eWnxMg4jru7"
      }
    },
    {
      "cell_type": "code",
      "source": [
        "# Criando uma lista de números\n",
        "numeros = [10, 20, 30, 40, 50]\n",
        "\n",
        "# Acessando itens da lista por índice\n",
        "primeiro_numero = numeros[0]  # Retorna 10\n",
        "ultimo_numero = numeros[-1]   # Retorna 50\n",
        "\n",
        "# Modificando um item da lista\n",
        "numeros[2] = 35  # Altera o terceiro elemento para 35\n",
        "\n",
        "# Adicionando um novo item no final da lista\n",
        "numeros.append(60)\n",
        "\n",
        "# Removendo um item da lista\n",
        "numeros.remove(20)  # Remove o número 20 da lista\n",
        "\n",
        "# Iterando pela lista e imprimindo cada elemento\n",
        "for numero in numeros:\n",
        "    print(numero)\n",
        "\n",
        "# Verificando o comprimento da lista\n",
        "tamanho_da_lista = len(numeros)  # Retorna 5\n",
        "\n",
        "# Ordenando a lista\n",
        "numeros.sort()  # Ordena a lista em ordem crescente\n",
        "\n",
        "print(\"Lista final:\", numeros)\n"
      ],
      "metadata": {
        "id": "r4_SxyhBkBiC"
      },
      "execution_count": null,
      "outputs": []
    },
    {
      "cell_type": "markdown",
      "source": [
        "# Exercícios"
      ],
      "metadata": {
        "id": "9B1t_T72jkWT"
      }
    },
    {
      "cell_type": "markdown",
      "source": [
        "71) Faça um programa que preencha automaticamente um vetor numérico com 8 posições, conforme abaixo:\n",
        "\n",
        "999 999 999 999 999 999 999 999\n",
        "\n",
        "0   1   2    3    4   5   6    7"
      ],
      "metadata": {
        "id": "WXQIgXPhGTLe"
      }
    },
    {
      "cell_type": "code",
      "execution_count": null,
      "metadata": {
        "id": "yssJ0pOFGSQ0"
      },
      "outputs": [],
      "source": [
        "vec = []\n",
        "\n",
        "for i in range(8):\n",
        "  vec.append(999)\n",
        "\n",
        "print(vec)\n"
      ]
    },
    {
      "cell_type": "markdown",
      "source": [
        "72) Crie um programa que preencha automaticamente (usando lógica, não apenas atribuindo diretamente) um vetor numérico com 10 posições, conforme abaixo:\n",
        "\n",
        "5 10 15 20 25 30 35 40 45 50\n",
        "\n",
        "0 1 2 3 4 5 6 7 8 9\n"
      ],
      "metadata": {
        "id": "5fueKSd1TIqq"
      }
    },
    {
      "cell_type": "code",
      "source": [
        "vec = []\n",
        "\n",
        "for i in range(5,55,5):\n",
        "  vec.append(i)\n",
        "\n",
        "print(vec)"
      ],
      "metadata": {
        "id": "LP_X3RibUq1t"
      },
      "execution_count": null,
      "outputs": []
    },
    {
      "cell_type": "markdown",
      "source": [
        "\n",
        "73) Crie um programa que preencha automaticamente (usando lógica, não apenas atribuindo diretamente) um vetor numérico com 10 posições, conforme abaixo:\n",
        "\n",
        "9 8 7 6 5 4 3 2 1 0\n",
        "\n",
        "0 1 2 3 4 5 6 7 8 9\n"
      ],
      "metadata": {
        "id": "TUgOBqvGTNZ0"
      }
    },
    {
      "cell_type": "code",
      "source": [
        "vec = []\n",
        "\n",
        "for i in range(11):\n",
        "  vec.append(10-i)\n",
        "\n",
        "print(vec)"
      ],
      "metadata": {
        "id": "MLEKET0JVABX"
      },
      "execution_count": null,
      "outputs": []
    },
    {
      "cell_type": "markdown",
      "source": [
        "\n",
        "74) Crie um programa que preencha automaticamente (usando lógica, não apenas atribuindo diretamente) um vetor numérico com 10 posições, conforme abaixo:\n",
        "\n",
        "5 3 5 3 5 3 5 3 5 3\n",
        "\n",
        "0 1 2 3 4 5 6 7 8 9"
      ],
      "metadata": {
        "id": "GBfjU4t0TR00"
      }
    },
    {
      "cell_type": "code",
      "source": [
        "vec = []\n",
        "\n",
        "for i in range(10):\n",
        "  if i%2 == 0:\n",
        "    vec.append(5)\n",
        "  else:\n",
        "    vec.append(3)\n",
        "\n",
        "print(vec)"
      ],
      "metadata": {
        "id": "zXLDViPtVUyx"
      },
      "execution_count": null,
      "outputs": []
    },
    {
      "cell_type": "markdown",
      "source": [
        "75) Crie um programa que preencha automaticamente (usando lógica, não apenas atribuindo diretamente) um vetor numérico com 15 posições com os primeiros elementos da sequência de Fibonacci:\n",
        "\n",
        "1 1 2 3 5 8 13 21 34 55 89 144 233 377 610 987\n",
        "\n",
        "0 1 2 3 4 5 6 7 8 9 10 11 12 13 14 15"
      ],
      "metadata": {
        "id": "I3crzXyTTWAP"
      }
    },
    {
      "cell_type": "code",
      "source": [
        "vec = []\n",
        "\n",
        "vec.append(0)\n",
        "vec.append(1)\n",
        "\n",
        "for i in range (12):\n",
        "  vec.append(vec[0+i] + vec[1+i])\n",
        "print(vec)"
      ],
      "metadata": {
        "id": "0yk9iCJLWJqu"
      },
      "execution_count": null,
      "outputs": []
    },
    {
      "cell_type": "markdown",
      "source": [
        "76) Crie um programa que preencha automaticamente um vetor numérico com 7 números gerados aleatoriamente pelo computador e depois mostre os valores\n",
        "gerados na tela."
      ],
      "metadata": {
        "id": "IBicZiB2Xzop"
      }
    },
    {
      "cell_type": "code",
      "source": [
        "import random\n",
        "\n",
        "vec = []\n",
        "\n",
        "for i in range(7):\n",
        "  vec.append(random.randint(0,100))\n",
        "\n",
        "print(vec)\n"
      ],
      "metadata": {
        "id": "0IzpE6rLYKSb"
      },
      "execution_count": null,
      "outputs": []
    },
    {
      "cell_type": "markdown",
      "source": [
        "77) Faça um programa que leia 7 nomes de pessoas e guarde-os em um vetor. No\n",
        "final, mostre uma listagem com todos os nomes informados, na ordem inversa\n",
        "daquela em que eles foram informados."
      ],
      "metadata": {
        "id": "6zCGhMjWYBFV"
      }
    },
    {
      "cell_type": "code",
      "source": [
        "vec = vec_inverted = []\n",
        "\n",
        "for i in range(7):\n",
        "  nome = str(input('Digite um nome:   '))\n",
        "  vec.append(nome)\n",
        "print(vec)\n",
        "\n",
        "for j in range(7):\n",
        "  vec_inverted.append(vec.pop(6-j))\n",
        "print(vec_inverted)"
      ],
      "metadata": {
        "id": "Kf9hnD5CYksF"
      },
      "execution_count": null,
      "outputs": []
    },
    {
      "cell_type": "markdown",
      "source": [],
      "metadata": {
        "id": "9yy0F2ZMYhjm"
      }
    },
    {
      "cell_type": "markdown",
      "source": [
        "78) Escreva um programa que leia 15 números e guarde-os em um vetor. No final, mostre o vetor inteiro na tela e em seguida mostre em que posições foram digitados valores que são múltiplos de 10."
      ],
      "metadata": {
        "id": "e2zRHLXDYDKC"
      }
    },
    {
      "cell_type": "code",
      "source": [
        "vec = []\n",
        "\n",
        "for i in range (15):\n",
        "  vec.append(int(input('Digite um número:   ')))\n",
        "print('\\n')\n",
        "print(vec)\n",
        "\n",
        "print(f'Os números divisíveis por 10 estão nas posições:', end=' ')\n",
        "\n",
        "for j in range(len(vec)):\n",
        "  if vec[j]%10 == 0:\n",
        "    print(j, end=', ')\n",
        "\n"
      ],
      "metadata": {
        "id": "zKBFVyRfarxk"
      },
      "execution_count": null,
      "outputs": []
    },
    {
      "cell_type": "markdown",
      "source": [
        "79) Desenvolva um programa que leia 10 números inteiros e guarde-os em um vetor. No final, mostre quais são os números pares que foram digitados e em que posições eles estão armazenados."
      ],
      "metadata": {
        "id": "O45iojLSYFD8"
      }
    },
    {
      "cell_type": "code",
      "source": [
        "vec = []\n",
        "pos_pares = []\n",
        "pos_impares = []\n",
        "\n",
        "for i in range(5):\n",
        "  vec.append(int(input('Digite um número inteiro:   ')))\n",
        "  if vec[i]%2 == 0:\n",
        "    pos_pares.append(i)\n",
        "  else:\n",
        "    pos_impares.append(i)\n",
        "print(vec)\n",
        "\n",
        "# Criando strings das listas:\n",
        "par = ', '.join([str(x) for x in pos_pares])\n",
        "impar = ', '.join([str(x) for x in pos_impares])\n",
        "\n",
        "print(f'Os números pares estão nas posições: {par}')\n",
        "print(f'Os números ímpares estão nas posições: {impar}')\n"
      ],
      "metadata": {
        "id": "7-a29Xlrc7j-"
      },
      "execution_count": null,
      "outputs": []
    },
    {
      "cell_type": "markdown",
      "source": [
        "80) Faça um algoritmo que preencha um vetor de 30 posições com números entre 1 e 15 sorteados pelo computador. Depois disso, peça para o usuário digitar um número (chave) e seu programa deve mostrar em que posições essa chave foi\n",
        "encontrada. Mostre também quantas vezes a chave foi sorteada."
      ],
      "metadata": {
        "id": "1fsgkUoKYGn3"
      }
    },
    {
      "cell_type": "code",
      "source": [
        "import random\n",
        "\n",
        "# Setando os estados iniciais das variáveis\n",
        "vec = []\n",
        "pos_repet = []\n",
        "frequencia = 0\n",
        "\n",
        "# Gerando os elementos da lista\n",
        "for i in range(30):\n",
        "  vec.append(random.randint(1,15))\n",
        "print(vec)\n",
        "\n",
        "# Recebendo o número do teclado\n",
        "num = int(input('Digite um número inteiro:   '))\n",
        "\n",
        "# Buscando os números repetidos\n",
        "for j in range(len(vec)):\n",
        "  if num == vec[j]:\n",
        "    pos_repet.append(j)\n",
        "    frequencia += 1\n",
        "\n",
        "# Criando string com os elementos do vetor pos_repet\n",
        "pos_repet_str = ', '.join([str(x) for x in pos_repet])\n",
        "\n",
        "# Exibindo o resultado\n",
        "print(f'O número {num} aparece {frequencia} vezes na lista gerada, nas posições {pos_repet_str}.')"
      ],
      "metadata": {
        "id": "ykuIxZh6pE-v"
      },
      "execution_count": null,
      "outputs": []
    },
    {
      "cell_type": "markdown",
      "source": [
        "81) Crie um programa que leia a idade de 8 pessoas e guarde-as em um vetor. No final, mostre:\n",
        "\n",
        "a) Qual é a média de idade das pessoas cadastradas\n",
        "\n",
        "b) Em quais posições temos pessoas com mais de 25 anos\n",
        "\n",
        "c) Qual foi a maior idade digitada(podem haver repetições)\n",
        "\n",
        "d) Em que posições digitamos a maior idade"
      ],
      "metadata": {
        "id": "7s_lKc8_iLem"
      }
    },
    {
      "cell_type": "code",
      "source": [
        "vec = []\n",
        "pos_maior_25 = []\n",
        "vec_maiores_idades = []\n",
        "soma = num = idade = maior = idade_sup = 0\n",
        "\n",
        "\n",
        "for i in range(5):\n",
        "  idade = int(input('Digite a idade:   '))\n",
        "  vec.append(idade)\n",
        "  if idade > 25:\n",
        "    pos_maior_25.append(i)\n",
        "  if idade > maior:\n",
        "    maior = idade\n",
        "    idade_sup = i\n",
        "    vec_maiores_idades.append(maior)\n",
        "print(f'Vetor de idades: {vec}')\n",
        "\n",
        "pos_maior_25_str= ', '.join([str(x) for x in pos_maior_25])\n",
        "for j in range(len(vec)):\n",
        "  soma += vec[j]\n",
        "  num += 1\n",
        "\n",
        "print(f'A média das idades é {soma/num} anos.')\n",
        "print(f'As pessoas com mais de 25 anos estão nas posições {pos_maior_25_str}.')\n",
        "print(f'A pessoa mais velha tem {maior} anos.')\n",
        "print(f'A pessoa com maior idade está na posição {idade_sup}')"
      ],
      "metadata": {
        "id": "9zwE_YjDtJpk"
      },
      "execution_count": null,
      "outputs": []
    },
    {
      "cell_type": "markdown",
      "source": [
        "82) Faça um algoritmo que leia a nota de 10 alunos de uma turma e guarde-as em um vetor. No final, mostre:\n",
        "\n",
        "a) Qual é a média da turma\n",
        "\n",
        "b) Quantos alunos estão acima da média da turma\n",
        "\n",
        "c) Qual foi a maior nota digitada\n",
        "\n",
        "d) Em que posições a maior nota aparece"
      ],
      "metadata": {
        "id": "wca3XoCyiURW"
      }
    },
    {
      "cell_type": "code",
      "source": [
        "vec = []\n",
        "acima_media = []\n",
        "soma = num = maior = pos_maior = 0\n",
        "\n",
        "for i in range(5):\n",
        "  nota = float(input('Digite a nota do aluno:   '))\n",
        "  vec.append(nota)\n",
        "  soma += nota\n",
        "  num += 1\n",
        "  if nota > 6.0:\n",
        "    acima_media.append(i)\n",
        "  if nota > maior:\n",
        "    maior = nota\n",
        "    pos_maior = i\n",
        "\n",
        "print('\\n')\n",
        "print(f'Vetor de notas: {vec}')\n",
        "print(f'A média da turma é de {soma/num} pontos.')\n",
        "print(f'Temos {len(acima_media)} alunos acima da média.')\n",
        "print(f'A maior nota foi {maior} e aparece na posição {pos_maior}.')"
      ],
      "metadata": {
        "id": "mf4QZKhgySYD"
      },
      "execution_count": null,
      "outputs": []
    },
    {
      "cell_type": "markdown",
      "source": [
        "83) [DESAFIO] Crie uma lógica que preencha um vetor de 20 posições com números aleatórios (entre 0 e 99) gerados pelo computador. Logo em seguida, mostre os números gerados e depois coloque o vetor em ordem crescente, mostrando no final os valores ordenados."
      ],
      "metadata": {
        "id": "CgZY4s5BiZsS"
      }
    },
    {
      "cell_type": "code",
      "source": [
        "import random\n",
        "\n",
        "# Passo 1: Gerar vetor com 20 numeros aleatórios de 0 a 1000\n",
        "vec = [random.randint(0,100000) for x in range(100000)]\n",
        "print(f'Vetor original: {vec}')\n",
        "\n",
        "# Passo 2: Função section_sort\n",
        "def selection_sort(vetor):\n",
        "  for indice in range(0,len(vetor)):\n",
        "    min_indice = indice\n",
        "\n",
        "    for proximo in range(indice + 1, len(vetor)):\n",
        "      if vetor[proximo] < vetor[min_indice]:\n",
        "        min_indice = proximo\n",
        "\n",
        "    vetor[indice],vetor[min_indice] = vetor[min_indice],vetor[indice]\n",
        "\n",
        "selection_sort(vec)\n",
        "print(f'Vetor ordenado: {vec}')"
      ],
      "metadata": {
        "id": "sF7woyPgqJ_i"
      },
      "execution_count": null,
      "outputs": []
    },
    {
      "cell_type": "markdown",
      "source": [
        "84) Crie um programa que leia o nome e a idade de 9 pessoas e guarde esses\n",
        "valores em dois vetores, em posições relacionadas. No final, mostre uma listagem contendo apenas os dados das pessoas menores de idade."
      ],
      "metadata": {
        "id": "znqbIZBRieDa"
      }
    },
    {
      "cell_type": "code",
      "source": [
        "idades = []\n",
        "menores = []\n",
        "\n",
        "for i in range(9):\n",
        "  idades.append(int(input('Digite a idade:   ')))\n",
        "  if idades[i] < 18:\n",
        "    menores.append(idades[i])\n",
        "\n",
        "print('\\n')\n",
        "print(f'Vetor de idades: {idades}')\n",
        "print(f'Vetor de menores de idade: {menores}')"
      ],
      "metadata": {
        "id": "_1tB1TZyxF39"
      },
      "execution_count": null,
      "outputs": []
    },
    {
      "cell_type": "markdown",
      "source": [
        "85) Faça um algoritmo que leia o nome, o sexo e o salário de 5 funcionários e guarde esses dados em três vetores. No final, mostre uma listagem contendo apenas os dados das funcionárias mulheres que ganham mais de R$5 mil."
      ],
      "metadata": {
        "id": "SHK9V50riiXJ"
      }
    },
    {
      "cell_type": "code",
      "source": [
        "nome = []\n",
        "sexo = []\n",
        "salario = []\n",
        "aux = []\n",
        "selecao = []\n",
        "\n",
        "for i in range(3):\n",
        "  nome.append(str(input('Qual é o nome?    ')))\n",
        "  sexo.append(str(input('Masc [m] Fem [f]   ')))\n",
        "  salario.append(float(input('Qual é o vaor do salário?    ')))\n",
        "\n",
        "  if (sexo[i] == 'f') & (salario[i] > 5000):\n",
        "    aux = [nome[i], sexo[i], salario[i]]\n",
        "    selecao.append(aux)\n",
        "    aux = []\n",
        "\n",
        "print('\\n')\n",
        "print(f'Vetor filtrado: {selecao}')"
      ],
      "metadata": {
        "id": "kBpdDwpAxG_V"
      },
      "execution_count": null,
      "outputs": []
    }
  ]
}