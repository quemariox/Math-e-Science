{
  "nbformat": 4,
  "nbformat_minor": 0,
  "metadata": {
    "colab": {
      "private_outputs": true,
      "provenance": [],
      "authorship_tag": "ABX9TyPKJUZ2Ua6/uIfCoDLkGE4a",
      "include_colab_link": true
    },
    "kernelspec": {
      "name": "python3",
      "display_name": "Python 3"
    },
    "language_info": {
      "name": "python"
    }
  },
  "cells": [
    {
      "cell_type": "markdown",
      "metadata": {
        "id": "view-in-github",
        "colab_type": "text"
      },
      "source": [
        "<a href=\"https://colab.research.google.com/github/quemariox/Math-e-Science/blob/main/exercicios_lista6_while_true_brak.ipynb\" target=\"_parent\"><img src=\"https://colab.research.google.com/assets/colab-badge.svg\" alt=\"Open In Colab\"/></a>"
      ]
    },
    {
      "cell_type": "markdown",
      "source": [
        "# while True e break"
      ],
      "metadata": {
        "id": "mIqiZtJnlYXN"
      }
    },
    {
      "cell_type": "markdown",
      "source": [
        "Em Python, `while True` em conjunto com `break` é uma técnica utilizada para criar loops que executam indefinidamente até que uma condição específica seja atendida. Aqui estão os pontos principais:\n",
        "\n",
        "- **Loop Infinito**: `while True` cria um loop que continua indefinidamente, pois a condição é sempre verdadeira.\n",
        "\n",
        "- **Break**: A instrução `break` é usada dentro do loop para interromper sua execução imediatamente, independentemente da condição do `while`.\n",
        "\n",
        "- **Uso Comum**: É útil quando você precisa executar um loop até que uma condição interna seja satisfeita, em vez de depender de uma condição na própria declaração `while`.\n",
        "\n",
        "**Exemplo:**"
      ],
      "metadata": {
        "id": "yJ6EjKHrleqR"
      }
    },
    {
      "cell_type": "code",
      "source": [
        "while True:\n",
        "    resposta = input(\"Digite 'sair' para encerrar: \")\n",
        "    if resposta.lower() == 'sair':\n",
        "        break\n",
        "    print(\"Por favor, digite 'sair' para encerrar.\")"
      ],
      "metadata": {
        "id": "UY63K6acllFL"
      },
      "execution_count": null,
      "outputs": []
    },
    {
      "cell_type": "markdown",
      "source": [
        "**Neste exemplo:**\n",
        "\n",
        "- O loop `while True` executa indefinidamente.\n",
        "- O programa solicita ao usuário que digite \"sair\".\n",
        "- Se o usuário digitar \"sair\", a instrução `break` é executada, encerrando o loop.\n",
        "- Caso contrário, o programa continua pedindo ao usuário para digitar \"sair\"."
      ],
      "metadata": {
        "id": "z8N3sg4-ln1C"
      }
    },
    {
      "cell_type": "markdown",
      "source": [
        "# Exercícios"
      ],
      "metadata": {
        "id": "i4OuU7w6lWGg"
      }
    },
    {
      "cell_type": "markdown",
      "source": [
        "61) Crie um programa que mostre na tela a seguinte contagem, usando a estrutura “faça enquanto”\n",
        "0 3 6 9 12 15 18 21 24 27 30 Acabou!"
      ],
      "metadata": {
        "id": "JpEjVpcTx2Qr"
      }
    },
    {
      "cell_type": "code",
      "execution_count": null,
      "metadata": {
        "id": "ng-tkI1gxtsg"
      },
      "outputs": [],
      "source": [
        "num = 0\n",
        "\n",
        "while True:\n",
        "  if num < 30:\n",
        "    num += 3\n",
        "    print(num)\n",
        "  else:\n",
        "    print('Acabou!')\n",
        "    break"
      ]
    },
    {
      "cell_type": "markdown",
      "source": [
        "62) Faça um programa usando a estrutura “faça enquanto” que leia a idade de várias pessoas. A cada laço, você deverá perguntar para o usuário se ele quer ou não continuar a digitar dados. No final, quando o usuário decidir parar, mostre na tela:\n",
        "\n",
        "a) Quantas idades foram digitadas\n",
        "\n",
        "b) Qual é a média entre as idades digitadas\n",
        "\n",
        "c) Quantas pessoas tem 21 anos ou mais."
      ],
      "metadata": {
        "id": "XVh2sZBxx7bP"
      }
    },
    {
      "cell_type": "code",
      "source": [
        "soma_idades = num_idades = mais_21 = 0\n",
        "\n",
        "while True:\n",
        "  print('\\n')\n",
        "  quer_continuar = str(input('Quer continuar? Sim [s]  Não[n]   '))\n",
        "\n",
        "  if quer_continuar == 's':\n",
        "    idade = int(input('Digite a idade:   '))\n",
        "\n",
        "    soma_idades += idade\n",
        "    num_idades += 1\n",
        "\n",
        "    if idade >= 21:\n",
        "      mais_21 += 1\n",
        "  else:\n",
        "    break\n",
        "\n",
        "print('\\n')\n",
        "print(f\"\"\" Foram digitadas {num_idades} idades. \\n\n",
        "A média das idades é {soma_idades/num_idades} anos. \\n\n",
        "{mais_21} pessoas tem mais de 21 anos.\"\"\")"
      ],
      "metadata": {
        "id": "0eJ-zVyXyBgy"
      },
      "execution_count": null,
      "outputs": []
    },
    {
      "cell_type": "markdown",
      "source": [
        "63) Crie um programa usando a estrutura “faça enquanto” que leia vários números. A cada laço, pergunte se o usuário quer continuar ou não. No final, mostre na tela:\n",
        "\n",
        "a) O somatório entre todos os valores\n",
        "\n",
        "b) Qual foi o menor valor digitado\n",
        "\n",
        "c) A média entre todos os valores\n",
        "\n",
        "d) Quantos valores são pares"
      ],
      "metadata": {
        "id": "PpZw7V_6yB9J"
      }
    },
    {
      "cell_type": "code",
      "source": [
        "soma = n = pares = 0\n",
        "menor = 10*10\n",
        "\n",
        "while True:\n",
        "  print('\\n')\n",
        "  continuar = str(input('Quer continuar? Sim [s]  Não [n]    '))\n",
        "  if continuar == 's':\n",
        "    num = int(input('Digite um número:   '))\n",
        "    soma += num\n",
        "    n += 1\n",
        "    if num < menor:\n",
        "      menor = num\n",
        "    if num%2 == 0:\n",
        "      pares += 1\n",
        "  else:\n",
        "    break\n",
        "\n",
        "print(f\"\"\" A soma dos valores foi {soma} \\n\n",
        "O menor valor digitado foi {menor} \\n\n",
        "Temos {pares} números pares \\n\n",
        "A média dos valores foi {soma/n} \\n\"\"\")"
      ],
      "metadata": {
        "id": "pnkbiT_51PVi"
      },
      "execution_count": null,
      "outputs": []
    }
  ]
}