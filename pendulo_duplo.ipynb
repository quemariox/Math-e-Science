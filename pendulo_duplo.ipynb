{
  "nbformat": 4,
  "nbformat_minor": 0,
  "metadata": {
    "colab": {
      "provenance": [],
      "authorship_tag": "ABX9TyN2Rnq6GzPS00Op1susS/T+",
      "include_colab_link": true
    },
    "kernelspec": {
      "name": "python3",
      "display_name": "Python 3"
    },
    "language_info": {
      "name": "python"
    }
  },
  "cells": [
    {
      "cell_type": "markdown",
      "metadata": {
        "id": "view-in-github",
        "colab_type": "text"
      },
      "source": [
        "<a href=\"https://colab.research.google.com/github/quemariox/Math-e-Science/blob/main/pendulo_duplo.ipynb\" target=\"_parent\"><img src=\"https://colab.research.google.com/assets/colab-badge.svg\" alt=\"Open In Colab\"/></a>"
      ]
    },
    {
      "cell_type": "code",
      "execution_count": 3,
      "metadata": {
        "colab": {
          "base_uri": "https://localhost:8080/",
          "height": 220
        },
        "id": "TNrUxcirqRCw",
        "outputId": "7983d4bf-d18c-424f-d083-0056ab8f48c4"
      },
      "outputs": [
        {
          "output_type": "error",
          "ename": "NameError",
          "evalue": "name 'theta1' is not defined",
          "traceback": [
            "\u001b[0;31m---------------------------------------------------------------------------\u001b[0m",
            "\u001b[0;31mNameError\u001b[0m                                 Traceback (most recent call last)",
            "\u001b[0;32m<ipython-input-3-705a70cb7788>\u001b[0m in \u001b[0;36m<cell line: 14>\u001b[0;34m()\u001b[0m\n\u001b[1;32m     12\u001b[0m \u001b[0;34m\u001b[0m\u001b[0m\n\u001b[1;32m     13\u001b[0m theta1_double_dot = (\n\u001b[0;32m---> 14\u001b[0;31m     \u001b[0;34m-\u001b[0m\u001b[0mg\u001b[0m \u001b[0;34m*\u001b[0m \u001b[0;34m(\u001b[0m\u001b[0;36m2\u001b[0m \u001b[0;34m*\u001b[0m \u001b[0mm1\u001b[0m \u001b[0;34m+\u001b[0m \u001b[0mm2\u001b[0m\u001b[0;34m)\u001b[0m \u001b[0;34m*\u001b[0m \u001b[0mnp\u001b[0m\u001b[0;34m.\u001b[0m\u001b[0msin\u001b[0m\u001b[0;34m(\u001b[0m\u001b[0mtheta1\u001b[0m\u001b[0;34m)\u001b[0m \u001b[0;34m-\u001b[0m \u001b[0mm2\u001b[0m \u001b[0;34m*\u001b[0m \u001b[0mg\u001b[0m \u001b[0;34m*\u001b[0m \u001b[0mnp\u001b[0m\u001b[0;34m.\u001b[0m\u001b[0msin\u001b[0m\u001b[0;34m(\u001b[0m\u001b[0mtheta1\u001b[0m \u001b[0;34m-\u001b[0m \u001b[0;36m2\u001b[0m \u001b[0;34m*\u001b[0m \u001b[0mtheta2\u001b[0m\u001b[0;34m)\u001b[0m\u001b[0;34m\u001b[0m\u001b[0;34m\u001b[0m\u001b[0m\n\u001b[0m\u001b[1;32m     15\u001b[0m     \u001b[0;34m-\u001b[0m \u001b[0;36m2\u001b[0m \u001b[0;34m*\u001b[0m \u001b[0mnp\u001b[0m\u001b[0;34m.\u001b[0m\u001b[0msin\u001b[0m\u001b[0;34m(\u001b[0m\u001b[0mtheta1\u001b[0m \u001b[0;34m-\u001b[0m \u001b[0mtheta2\u001b[0m\u001b[0;34m)\u001b[0m \u001b[0;34m*\u001b[0m \u001b[0mm2\u001b[0m \u001b[0;34m*\u001b[0m \u001b[0;34m(\u001b[0m\u001b[0mtheta2_dot\u001b[0m \u001b[0;34m**\u001b[0m \u001b[0;36m2\u001b[0m \u001b[0;34m*\u001b[0m \u001b[0mL2\u001b[0m \u001b[0;34m+\u001b[0m \u001b[0mtheta1_dot\u001b[0m \u001b[0;34m**\u001b[0m \u001b[0;36m2\u001b[0m \u001b[0;34m*\u001b[0m \u001b[0mL1\u001b[0m \u001b[0;34m*\u001b[0m \u001b[0mnp\u001b[0m\u001b[0;34m.\u001b[0m\u001b[0mcos\u001b[0m\u001b[0;34m(\u001b[0m\u001b[0mtheta1\u001b[0m \u001b[0;34m-\u001b[0m \u001b[0mtheta2\u001b[0m\u001b[0;34m)\u001b[0m\u001b[0;34m)\u001b[0m\u001b[0;34m\u001b[0m\u001b[0;34m\u001b[0m\u001b[0m\n\u001b[1;32m     16\u001b[0m ) / (L1 * (2 * m1 + m2 - m2 * np.cos(2 * theta1 - 2 * theta2)))\n",
            "\u001b[0;31mNameError\u001b[0m: name 'theta1' is not defined"
          ]
        }
      ],
      "source": [
        "# https://medium.com/@hamxa26/a-dance-of-chaos-simulating-a-double-pendulum-dcbf4f96dd16\n",
        "import numpy as np\n",
        "import matplotlib.pyplot as plt\n",
        "from scipy.integrate import odeint\n",
        "\n",
        "# Define the double pendulum equations of motion\n",
        "def double_pendulum_equations(y, t, L1, L2, m1, m2, g):\n",
        "    theta1, theta1_dot, theta2, theta2_dot = y\n",
        "\n",
        "g = 10.0  # Acceleration due to gravity\n",
        "m1 = 1.0  # Mass of the first pendulum\n",
        "m2 = 1.0  # Mass of the second pendulum\n",
        "\n",
        "theta1_double_dot = (\n",
        "    -g * (2 * m1 + m2) * np.sin(theta1) - m2 * g * np.sin(theta1 - 2 * theta2)\n",
        "    - 2 * np.sin(theta1 - theta2) * m2 * (theta2_dot ** 2 * L2 + theta1_dot ** 2 * L1 * np.cos(theta1 - theta2))\n",
        ") / (L1 * (2 * m1 + m2 - m2 * np.cos(2 * theta1 - 2 * theta2)))\n",
        "\n",
        "theta2_double_dot = (\n",
        "    2 * np.sin(theta1 - theta2) * (theta1_dot ** 2 * L1 * (m1 + m2) + g * (m1 + m2) * np.cos(theta1)\n",
        "                                  + theta2_dot ** 2 * L2 * m2 * np.cos(theta1 - theta2))\n",
        ") / (L2 * (2 * m1 + m2 - m2 * np.cos(2 * theta1 - 2 * theta2)))\n",
        "\n",
        "return [theta1_dot, theta1_double_dot, theta2_dot, theta2_double_dot]\n",
        "\n",
        "L1 = 1.0  # Length of the first pendulum\n",
        "L2 = 1.0  # Length of the second pendulum\n",
        "m1 = 1.0  # Mass of the first pendulum\n",
        "m2 = 1.0  # Mass of the second pendulum\n",
        "g = 9.81  # Acceleration due to gravity\n",
        "\n",
        "y0 = [np.pi / 4, 0, np.pi / 2, 0]\n",
        "\n",
        "t = np.linspace(0, 10, 1000)\n",
        "\n",
        "sol = odeint(double_pendulum_equations, y0, t, args=(L1, L2, m1, m2, g))\n",
        "\n",
        "theta1_sol, theta1_dot_sol, theta2_sol, theta2_dot_sol = sol[:, 0], sol[:, 1], sol[:, 2], sol[:, 3]\n",
        "\n",
        "x1 = L1 * np.sin(theta1_sol)\n",
        "y1 = -L1 * np.cos(theta1_sol)\n",
        "x2 = x1 + L2 * np.sin(theta2_sol)\n",
        "y2 = y1 - L2 * np.cos(theta2_sol)\n",
        "\n",
        "plt.figure(figsize=(8, 6))\n",
        "plt.plot(x1, y1, label='Pendulum 1')\n",
        "plt.plot(x2, y2, label='Pendulum 2')\n",
        "plt.xlabel('x (m)')\n",
        "plt.ylabel('y (m)')\n",
        "plt.title('Double Pendulum path')\n",
        "plt.legend()\n",
        "plt.grid(True)\n",
        "plt.show()"
      ]
    },
    {
      "cell_type": "code",
      "source": [],
      "metadata": {
        "id": "PSYh8wg7q6ho"
      },
      "execution_count": null,
      "outputs": []
    }
  ]
}