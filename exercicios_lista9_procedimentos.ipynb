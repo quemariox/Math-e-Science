{
  "nbformat": 4,
  "nbformat_minor": 0,
  "metadata": {
    "colab": {
      "private_outputs": true,
      "provenance": [],
      "authorship_tag": "ABX9TyM27Jf9Nl3PuBgjHdDZ1Wam",
      "include_colab_link": true
    },
    "kernelspec": {
      "name": "python3",
      "display_name": "Python 3"
    },
    "language_info": {
      "name": "python"
    }
  },
  "cells": [
    {
      "cell_type": "markdown",
      "metadata": {
        "id": "view-in-github",
        "colab_type": "text"
      },
      "source": [
        "<a href=\"https://colab.research.google.com/github/quemariox/Math-e-Science/blob/main/exercicios_lista9_procedimentos.ipynb\" target=\"_parent\"><img src=\"https://colab.research.google.com/assets/colab-badge.svg\" alt=\"Open In Colab\"/></a>"
      ]
    },
    {
      "cell_type": "markdown",
      "source": [
        "# Procedimentos"
      ],
      "metadata": {
        "id": "dutLlA2M9wdW"
      }
    },
    {
      "cell_type": "markdown",
      "source": [
        "**Definição:** Procedimentos (ou procedimentos de chamada) são blocos de código que executam uma tarefa específica, mas não retornam um valor.\n",
        "\n",
        "**Uso:** São usados para realizar operações, modificar variáveis, exibir informações, etc.\n",
        "\n",
        "**Sintaxe em Python:** Em Python, procedimentos são geralmente implementados como funções que não utilizam a instrução return ou retornam None."
      ],
      "metadata": {
        "id": "TCsN5dhv9_w5"
      }
    },
    {
      "cell_type": "code",
      "execution_count": null,
      "metadata": {
        "id": "l41Wh4Hz9Kr8"
      },
      "outputs": [],
      "source": [
        "# Implementando procedimento exibir_mensagem\n",
        "def exibir_mensagem():\n",
        "    print(\"Olá, esta é uma mensagem!\")\n",
        "\n",
        "# Chamando o procedimento\n",
        "exibir_mensagem()"
      ]
    },
    {
      "cell_type": "markdown",
      "source": [
        "# Exercícios\n",
        "\n"
      ],
      "metadata": {
        "id": "Lax4ysKk-tuC"
      }
    },
    {
      "cell_type": "markdown",
      "source": [
        "86) Crie um programa que tenha um procedimento Gerador() que, quando chamado, mostre a mensagem \"Olá, Mundo!\" com algum componente visual (linhas)\n",
        "\n",
        "Ex: Ao chamar Gerador() aparece:\n",
        "\n",
        "+-------=======------+\n",
        "\n",
        "Olá, Mundo!\n",
        "\n",
        "+-------=======------+"
      ],
      "metadata": {
        "id": "MXeTtkk-_LjM"
      }
    },
    {
      "cell_type": "code",
      "source": [
        "def Gerador():\n",
        "    print(\"+-------=======------+\")\n",
        "    print(\"Olá, Mundo!\")\n",
        "    print(\"+-------=======------+\")\n",
        "\n",
        "# Chamando o procedimento\n",
        "Gerador()\n"
      ],
      "metadata": {
        "id": "EqoEcbYDA1og"
      },
      "execution_count": null,
      "outputs": []
    },
    {
      "cell_type": "markdown",
      "source": [
        "87) Crie um programa que melhore o procedimento Gerador() da questão anterior para que mostre uma mensagem personalizada, passada como parâmetro. Ex: Ao chamar Gerador(\"Aprendendo python\") aparece:\n",
        "\n",
        "+-------=======------+\n",
        "\n",
        "Aprendendo python\n",
        "\n",
        "+-------=======------+"
      ],
      "metadata": {
        "id": "_LJR1id6Aico"
      }
    },
    {
      "cell_type": "code",
      "source": [
        "def Gerador(mensagem):\n",
        "    linha = \"+-------=======------+\"\n",
        "    print(linha)\n",
        "    print(mensagem)\n",
        "    print(linha)\n",
        "\n",
        "# Exemplo de uso\n",
        "Gerador(\"Aprendendo python\")"
      ],
      "metadata": {
        "id": "rrVgS-0mBKRA"
      },
      "execution_count": null,
      "outputs": []
    },
    {
      "cell_type": "markdown",
      "source": [
        "88) Crie um programa que melhore o procedimento Gerador() da questão anterior para que mostre uma mensagem várias vezes.\n",
        "\n",
        "Ex: Ao chamar Gerador(\"Aprendendo python\", 4) aparece:\n",
        "\n",
        "+-------=======------+\n",
        "\n",
        "Aprendendo python\n",
        "\n",
        "Aprendendo python\n",
        "\n",
        "Aprendendo python\n",
        "\n",
        "Aprendendo python\n",
        "\n",
        "+-------=======------+"
      ],
      "metadata": {
        "id": "rFC2NGoiAcB4"
      }
    },
    {
      "cell_type": "code",
      "source": [
        "def Gerador (mensagem, n):\n",
        "  linha = '+-------=======------+'\n",
        "  print(linha)\n",
        "  for i in range(n):\n",
        "    print(mensagem)\n",
        "  print(linha)\n",
        "\n",
        "Gerador('Aprendendo python', 4)"
      ],
      "metadata": {
        "id": "m8BC6ijBBpgb"
      },
      "execution_count": null,
      "outputs": []
    },
    {
      "cell_type": "markdown",
      "source": [
        "89) Crie um programa que melhore o procedimento Gerador() da questão anterior para que o programador possa escolher uma entre três bordas:\n",
        "\n",
        "+-------=======------+ Borda 1\n",
        "\n",
        "~~~~~~~~:::::::~~~~~~~ Borda 2\n",
        "\n",
        "<<<<<<<<------->>>>>>> Borda 3\n",
        "\n",
        "Ex: Uma chamada válida seria Gerador(\"Aprendendo python\", 3, 2)\n",
        "\n",
        "~~~~~~~~:::::::~~~~~~~\n",
        "\n",
        "Aprendendo python\n",
        "\n",
        "Aprendendo python\n",
        "\n",
        "Aprendendo python\n",
        "\n",
        "~~~~~~~~:::::::~~~~~~~"
      ],
      "metadata": {
        "id": "iDfuqwnOAB8J"
      }
    },
    {
      "cell_type": "code",
      "source": [
        "def Gerador(mensagem, repeticoes, borda):\n",
        "  linha_1 = '+-------=======------+'\n",
        "  linha_2 = '~~~~~~~~:::::::~~~~~~~'\n",
        "  linha_3 = '<<<<<<<<------->>>>>>>'\n",
        "  if borda == 1:\n",
        "    linha = linha_1\n",
        "  elif borda == 2:\n",
        "    linha = linha_2\n",
        "  else:\n",
        "    linha = linha_3\n",
        "\n",
        "  print(linha)\n",
        "  for i in range(repeticoes):\n",
        "    print(mensagem)\n",
        "  print(linha)\n",
        "\n",
        "Gerador('Aprendendo python', 5, 3)\n"
      ],
      "metadata": {
        "id": "iqIq6WE4DnFk"
      },
      "execution_count": null,
      "outputs": []
    },
    {
      "cell_type": "markdown",
      "source": [
        "90) Desenvolva um algoritmo que leia dois valores pelo teclado e passe esses valores para um procedimento Somador() que vai calcular e mostrar a soma entre eles.\n"
      ],
      "metadata": {
        "id": "dhOC6vSp_98K"
      }
    },
    {
      "cell_type": "code",
      "source": [
        "a = float(input('Digite um número:   '))\n",
        "b = float(input('Digite outro número:   '))\n",
        "\n",
        "def somador(a,b):\n",
        "  print(f'A soma dos valores {a} e {b} é {a + b}')\n",
        "\n",
        "somador(a,b)\n"
      ],
      "metadata": {
        "id": "zZRH8SyLFIUr"
      },
      "execution_count": null,
      "outputs": []
    },
    {
      "cell_type": "markdown",
      "source": [
        "91) Desenvolva um algoritmo que leia dois valores pelo teclado e passe esses valores para um procedimento Maior() que vai verificar qual deles é o maior e mostrá-lo na tela. Caso os dois valores sejam iguais, mostrar uma mensagem\n",
        "informando essa característica."
      ],
      "metadata": {
        "id": "IhKocVGv_5sR"
      }
    },
    {
      "cell_type": "code",
      "source": [
        "a = float(input('Digite um número:   '))\n",
        "b = float(input('Digite outro número:   '))\n",
        "\n",
        "def Maior(a, b):\n",
        "  if a > b:\n",
        "    print(f'{a} é maior que {b}!')\n",
        "  elif a < b:\n",
        "    print(f'{b} é maior que {a}!')\n",
        "  else:\n",
        "    print(f'Os dois valores são iguais!')\n",
        "\n",
        "Maior(a, b)"
      ],
      "metadata": {
        "id": "YVO16r7OFuJ4"
      },
      "execution_count": null,
      "outputs": []
    },
    {
      "cell_type": "markdown",
      "source": [
        "92) Crie uma lógica que leia um número inteiro e passe para um procedimento ParOuImpar() que vai verificar e mostrar na tela se o valor passado como parâmetro é PAR ou ÍMPAR."
      ],
      "metadata": {
        "id": "J2fRp4Hx_1Yx"
      }
    },
    {
      "cell_type": "code",
      "source": [
        "num = int(input('Digite um número:   '))\n",
        "\n",
        "def ParOuImpar(num):\n",
        "  if num%2 == 0:\n",
        "    print(f'{num} é PAR!')\n",
        "  else:\n",
        "    print(f'{num} é ÍMPAR!')\n",
        "\n",
        "ParOuImpar(num)"
      ],
      "metadata": {
        "id": "PVPcV_pdGhTB"
      },
      "execution_count": null,
      "outputs": []
    },
    {
      "cell_type": "markdown",
      "source": [
        "93) Faça um programa que tenha um procedimento chamado Contador() que recebe três valores como parâmetro: o início, o fim e o incremento de uma contagem. O programa principal deve solicitar a digitação desses valores e passá-los ao\n",
        "procedimento, que vai mostrar a contagem na tela.\n",
        "\n",
        "Ex: Para os valores de início (4), fim (20) e incremento(3) teremos Contador(4, 20, 3) vai mostrar na tela 4 >> 7 >> 10 >> 13 >> 16 >> 19 >> FIM"
      ],
      "metadata": {
        "id": "GPQ1hHFL_qb-"
      }
    },
    {
      "cell_type": "code",
      "source": [
        "a = int(input('Digite um número para iniciar a contagem:   '))\n",
        "b = int(input('Digite outro número para finalizar a contagem:   '))\n",
        "c = int(input('Digite um valor para o incremento:   '))\n",
        "\n",
        "def Contador(inicio, fim, incremento):\n",
        "  for i in range(inicio, fim + 1, incremento):\n",
        "    print(i)\n",
        "\n",
        "Contador(a, b, c)"
      ],
      "metadata": {
        "id": "rnIJUNxFGz1H"
      },
      "execution_count": null,
      "outputs": []
    },
    {
      "cell_type": "markdown",
      "source": [
        "94) [DESAFIO] Desenvolva um aplicativo que tenha um procedimento chamado Fibonacci() que recebe um único valor inteiro como parâmetro, indicando quantos termos da sequência serão mostrados na tela. O seu procedimento deve receber esse valor e mostrar a quantidade de elementos solicitados.\n",
        "\n",
        "Obs: Use os exercícios 70 e 75 para te ajudar na solução\n",
        "\n",
        "Ex:\n",
        "\n",
        "Fibonacci(5) vai gerar 1 >> 1 >> 2 >> 3 >> 5 >> FIM\n",
        "\n",
        "Fibonacci(9) vai gerar 1 >> 1 >> 2 >> 3 >> 5 >> 8 >> 13 >> 21 >> 34 >> FIM"
      ],
      "metadata": {
        "id": "uBd3y0m3_imb"
      }
    },
    {
      "cell_type": "code",
      "source": [
        "a = int(input('Quantos termos de Fibonacci você quer exibir?   '))\n",
        "\n",
        "def Fibonacci(num):\n",
        "  t1, t2 = 0, 1\n",
        "  for i in range(num):\n",
        "    print(t1)\n",
        "    t1, t2 = t2 , t1 + t2\n",
        "\n",
        "    #Sem usar a atribuição simultânea:\n",
        "    #aux = t1\n",
        "    #t1 = t2\n",
        "    #t2 = aux + t2\n",
        "\n",
        "Fibonacci(a)"
      ],
      "metadata": {
        "id": "01R7MQtaHsgz"
      },
      "execution_count": null,
      "outputs": []
    }
  ]
}
