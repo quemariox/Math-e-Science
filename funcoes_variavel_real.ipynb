{
  "nbformat": 4,
  "nbformat_minor": 0,
  "metadata": {
    "colab": {
      "provenance": [],
      "collapsed_sections": [
        "VgyVJliKjDPr",
        "lcEXiVPuIkHS",
        "z8EfTbEJLV2P",
        "9C34N--dLeAL"
      ],
      "authorship_tag": "ABX9TyPTsjKutwkqaPnbZZHdZqzl",
      "include_colab_link": true
    },
    "kernelspec": {
      "name": "python3",
      "display_name": "Python 3"
    },
    "language_info": {
      "name": "python"
    }
  },
  "cells": [
    {
      "cell_type": "markdown",
      "metadata": {
        "id": "view-in-github",
        "colab_type": "text"
      },
      "source": [
        "<a href=\"https://colab.research.google.com/github/quemariox/Math-e-Science/blob/main/funcoes_variavel_real.ipynb\" target=\"_parent\"><img src=\"https://colab.research.google.com/assets/colab-badge.svg\" alt=\"Open In Colab\"/></a>"
      ]
    },
    {
      "cell_type": "markdown",
      "source": [
        "# 1. Funções de uma variável real"
      ],
      "metadata": {
        "id": "VgyVJliKjDPr"
      }
    },
    {
      "cell_type": "markdown",
      "source": [
        "## *Resumo do algorítmo*\n",
        "\n",
        "<ol type=\"1\">\n",
        "  <li>Importação das bibliotecas np e plt;</li>\n",
        "  <li>Definição das funções;</li>\n",
        "  <li>Definição do intervalo e amostras;</li>\n",
        "  <li>Características da exibição.</li>\n",
        "</ol>"
      ],
      "metadata": {
        "id": "U9r6i5aIIyem"
      }
    },
    {
      "cell_type": "markdown",
      "source": [
        "## 1.1 Polinomial, racional, raíz e modular"
      ],
      "metadata": {
        "id": "uvuVSQUGnlPE"
      }
    },
    {
      "cell_type": "code",
      "execution_count": null,
      "metadata": {
        "id": "DFvrBPfxiGgU"
      },
      "outputs": [],
      "source": [
        "# Importação de bibliotecas\n",
        "import numpy as np\n",
        "import matplotlib.pyplot as plt\n",
        "\n",
        "# Funções Polinomial, racional, raiz e modular\n",
        "a = lambda x: x**2 + 2*x + 3  # polinomial do grau 2\n",
        "b = lambda x: 3*x**3 - 2*x**2 + 4*x + 5  # polinomial do grau 3\n",
        "c = lambda x: 100 * a(x) / b(x)  # função racional\n",
        "d = lambda x: 10 * np.sqrt(x)  # raiz quadrada\n",
        "e = lambda x: 10 * np.cbrt(x)  # raiz cúbica\n",
        "f = lambda x: np.abs(x)  # módulo\n",
        "\n",
        "# Criando um intervalo com um número de amostras\n",
        "x = np.linspace(-100, 100, 1000) # cria (x_min, x_max, n_amostras)\n",
        "\n",
        "# Plotando as funções\n",
        "plt.plot(x, a(x), label='polinomial grau 2', color='blue')\n",
        "plt.plot(x, b(x), label='polinomial grau 3', color='red')\n",
        "plt.plot(x, c(x), label='função racional', color='green')\n",
        "plt.plot(x, d(x), label='raiz quadrada', color='purple')\n",
        "plt.plot(x, e(x), label='raiz cúbica', color='orange')\n",
        "plt.plot(x, f(x), label='modular', color='brown')\n",
        "\n",
        "# Plotagem dos eixos\n",
        "plt.axhline(y=0, color='black', linewidth=0.5) # x-axis\n",
        "plt.axvline(x=0, color='black', linewidth=0.5) # y-axis\n",
        "\n",
        "# Nomeando os eixos e o gráfico\n",
        "plt.xlabel('x')\n",
        "plt.ylabel('y(x)')\n",
        "plt.title('Funções polinomiais, racionais, raizes e modular')\n",
        "\n",
        "# Posição da legenda, limites de exibição dos eixos e grid\n",
        "plt.legend(loc='upper left')\n",
        "plt.xlim(-50, 50)\n",
        "plt.ylim(-50, 50)\n",
        "plt.grid()\n",
        "\n",
        "# Tamanho do display e plotagem\n",
        "plt.rcParams['figure.figsize'] = (10, 6)\n",
        "plt.show()"
      ]
    },
    {
      "cell_type": "markdown",
      "source": [
        "## 1.2 Trigonométricas, hiperbólicas e suas inversas"
      ],
      "metadata": {
        "id": "XseKwM8HIT0S"
      }
    },
    {
      "cell_type": "code",
      "source": [
        "# Importação de bibliotecas\n",
        "import numpy as np\n",
        "import matplotlib.pyplot as plt\n",
        "\n",
        "# Definição das funções como lambda functions\n",
        "g = lambda x: np.sin(x)  # seno\n",
        "h = lambda x: np.cos(x)  # cosseno\n",
        "i = lambda x: np.tan(x)  # tangente\n",
        "j = lambda x: np.arcsin(x)  # arco seno\n",
        "k = lambda x: np.arccos(x)  # arco cosseno\n",
        "l = lambda x: np.arctan(x)  # arco tangente\n",
        "\n",
        "# Criando um intervalo com um número de amostras\n",
        "x = np.linspace(-10, 10, 1000)\n",
        "\n",
        "# Plotando as funções com cores diferentes\n",
        "plt.plot(x, g(x), label='seno', color='blue')\n",
        "plt.plot(x, h(x), label='cosseno', color='red')\n",
        "plt.plot(x, i(x), label='tangente', color='green')\n",
        "plt.plot(x, j(x), label='arco seno', color='purple')\n",
        "plt.plot(x, k(x), label='arco cosseno', color='orange')\n",
        "plt.plot(x, l(x), label='arco tangente', color='brown')\n",
        "\n",
        "# Plotagem dos eixos\n",
        "plt.axhline(y=0, color='black', linewidth=0.5)  # x-axis\n",
        "plt.axvline(x=0, color='black', linewidth=0.5)  # y-axis\n",
        "\n",
        "# Nomeando os eixos e o gráfico\n",
        "plt.xlabel('x')\n",
        "plt.ylabel('y(x)')\n",
        "plt.title('Funções trigonométricas e suas inversas')\n",
        "\n",
        "# Posição da legenda, limites de exibição dos eixos e grid\n",
        "plt.legend(loc='upper left')\n",
        "plt.xlim(-5, 5)\n",
        "plt.ylim(-5, 5)\n",
        "plt.grid()\n",
        "\n",
        "# Tamanho do display e plotagem\n",
        "plt.rcParams['figure.figsize'] = (10, 6)\n",
        "plt.show()"
      ],
      "metadata": {
        "id": "WOnlTcfioIv_"
      },
      "execution_count": null,
      "outputs": []
    },
    {
      "cell_type": "code",
      "source": [
        "# Importação de bibliotecas\n",
        "import numpy as np\n",
        "import matplotlib.pyplot as plt\n",
        "\n",
        "# Definição das funções como lambda functions\n",
        "m = lambda x: np.sinh(x)  # seno hiperbólico\n",
        "n = lambda x: np.cosh(x)  # cosseno hiperbólico\n",
        "o = lambda x: np.tanh(x)  # tangente hiperbólica\n",
        "p = lambda x: np.arcsinh(x)  # arco seno hiperbólico\n",
        "q = lambda x: np.arccosh(x)  # arco cosseno hiperbólico\n",
        "r = lambda x: np.arctanh(x)  # arco tangente hiperbólico\n",
        "\n",
        "# Criando um intervalo com um número de amostras\n",
        "x = np.linspace(-10, 10, 1000)\n",
        "\n",
        "# Plotando as funções com cores diferentes\n",
        "plt.plot(x, m(x), label='seno hiperbólico', color='blue')\n",
        "plt.plot(x, n(x), label='cosseno hiperbólico', color='red')\n",
        "plt.plot(x, o(x), label='tangente hiperbólica', color='green')\n",
        "plt.plot(x, p(x), label='arco seno hiperbólico', color='purple')\n",
        "plt.plot(x, q(x), label='arco cosseno hiperbólico', color='orange')\n",
        "plt.plot(x, r(x), label='arco tangente hiperbólico', color='brown')\n",
        "\n",
        "# Plotagem dos eixos\n",
        "plt.axhline(y=0, color='black', linewidth=0.5)  # x-axis\n",
        "plt.axvline(x=0, color='black', linewidth=0.5)  # y-axis\n",
        "\n",
        "# Nomeando os eixos e o gráfico\n",
        "plt.xlabel('x')\n",
        "plt.ylabel('y(x)')\n",
        "plt.title('Funções hiperbólicas e suas inversas')\n",
        "\n",
        "# Posição da legenda, limites de exibição dos eixos e grid\n",
        "plt.legend(loc='upper left')\n",
        "plt.xlim(-5, 5)\n",
        "plt.ylim(-5, 5)\n",
        "plt.grid()\n",
        "\n",
        "# Tamanho do display e plotagem\n",
        "plt.rcParams['figure.figsize'] = (10, 6)\n",
        "plt.show()"
      ],
      "metadata": {
        "id": "FDpKZZMyobP1"
      },
      "execution_count": null,
      "outputs": []
    },
    {
      "cell_type": "markdown",
      "source": [
        "## 1.3 Exponencial e logarítmica"
      ],
      "metadata": {
        "id": "lcEXiVPuIkHS"
      }
    },
    {
      "cell_type": "code",
      "source": [
        "# Importação de bibliotecas\n",
        "import numpy as np\n",
        "import matplotlib.pyplot as plt\n",
        "\n",
        "# Definição das funções como lambda functions\n",
        "s = lambda x: np.exp(x)  # exponencial natural\n",
        "t = lambda x: np.log(x) # if x > 0 else np.nan  # logaritmo natural (cuidado com valores negativos)\n",
        "u = lambda x: np.log10(x) # if x > 0 else np.nan  # logaritmo base 10 (cuidado com valores negativos)\n",
        "w = lambda x: np.exp2(x)  # exponencial base 2\n",
        "\n",
        "# Criando um intervalo com um número de amostras\n",
        "x = np.linspace(-10, 10, 1000)\n",
        "\n",
        "# Plotando as funções com cores diferentes\n",
        "plt.plot(x, s(x), label='exponencial natural', color='blue')\n",
        "plt.plot(x[x > 0], t(x[x > 0]), label='logaritmo natural', color='red')  # Considerando apenas valores positivos para logaritmo natural\n",
        "plt.plot(x[x > 0], u(x[x > 0]), label='logaritmo base 10', color='green')  # Considerando apenas valores positivos para logaritmo base 10\n",
        "plt.plot(x, w(x), label='exponencial base 2', color='purple')\n",
        "\n",
        "# Plotagem dos eixos\n",
        "plt.axhline(y=0, color='black', linewidth=0.5)  # x-axis\n",
        "plt.axvline(x=0, color='black', linewidth=0.5)  # y-axis\n",
        "\n",
        "# Nomeando os eixos e o gráfico\n",
        "plt.xlabel('x')\n",
        "plt.ylabel('y(x)')\n",
        "plt.title('Funções exponenciais e logarítmicas')\n",
        "\n",
        "# Posição da legenda, limites de exibição dos eixos e grid\n",
        "plt.legend(loc='upper left')\n",
        "plt.xlim(-5, 5)\n",
        "plt.ylim(-5, 5)\n",
        "plt.grid()\n",
        "\n",
        "# Tamanho do display e plotagem\n",
        "plt.rcParams['figure.figsize'] = (10, 6)\n",
        "plt.show()\n"
      ],
      "metadata": {
        "id": "Vsi_Yl6Q8N4Q"
      },
      "execution_count": null,
      "outputs": []
    },
    {
      "cell_type": "markdown",
      "source": [],
      "metadata": {
        "id": "CfHARZLvjCMh"
      }
    },
    {
      "cell_type": "markdown",
      "source": [
        "# 2. Funções de várias variáveis reais"
      ],
      "metadata": {
        "id": "weDUbjHJAZbk"
      }
    },
    {
      "cell_type": "markdown",
      "source": [
        "## 2.1 Plotagem estática"
      ],
      "metadata": {
        "id": "z8EfTbEJLV2P"
      }
    },
    {
      "cell_type": "code",
      "source": [
        "# Importando as bibliotecas\n",
        "import numpy as np\n",
        "import matplotlib.pyplot as plt\n",
        "from mpl_toolkits.mplot3d import Axes3D\n",
        "\n",
        "# Definindo a função de duas variáveis\n",
        "def f(x, y):\n",
        "    return x ** 2 - y ** 2\n",
        "\n",
        "# Região a ser plotada\n",
        "x = np.linspace(-5, 5, 100)\n",
        "y = np.linspace(-5, 5, 100)\n",
        "X, Y = np.meshgrid(x, y)\n",
        "Z = f(X, Y)\n",
        "\n",
        "# Criando a figura e o gráfico 3D\n",
        "fig = plt.figure(figsize=(10, 10))\n",
        "ax = fig.add_subplot(111, projection='3d')\n",
        "ax.plot_surface(X, Y, Z, cmap='viridis')\n",
        "\n",
        "# Nomeando os eixos e o gráfico\n",
        "ax.set_xlabel('x')\n",
        "ax.set_ylabel('y')\n",
        "ax.set_zlabel('z')\n",
        "ax.set_title('Função de duas variáveis')\n",
        "\n",
        "# Ajustando a visualização\n",
        "ax.view_init(elev=50, azim=45)\n",
        "\n",
        "# Mostrando o plot\n",
        "plt.show()\n",
        "\n"
      ],
      "metadata": {
        "id": "pm2Fk5tqq0aC"
      },
      "execution_count": null,
      "outputs": []
    },
    {
      "cell_type": "markdown",
      "source": [
        "## 2.2 Plotagem com animação\n",
        "\n",
        "## *Resumo do algorítmo*\n",
        "\n",
        "<ol type=\"1\">\n",
        "  <li>Importação das bibliotecas np e plt;</li>\n",
        "  <li>Definição das funções;</li>\n",
        "  <li>Definição do intervalo e amostras;</li>\n",
        "  <li>Características da exibição;</li>\n",
        "  <li>Animação</li>\n",
        "</ol>"
      ],
      "metadata": {
        "id": "9C34N--dLeAL"
      }
    },
    {
      "cell_type": "code",
      "source": [
        "import numpy as np\n",
        "import matplotlib.pyplot as plt\n",
        "from mpl_toolkits.mplot3d import Axes3D\n",
        "import matplotlib.animation as animation\n",
        "from IPython.display import HTML\n",
        "\n",
        "# Definindo a função de duas variáveis\n",
        "def f(x, y):\n",
        "    return x ** 2 - y ** 2\n",
        "\n",
        "# Região a ser plotada\n",
        "x = np.linspace(-5, 5, 100)\n",
        "y = np.linspace(-5, 5, 100)\n",
        "X, Y = np.meshgrid(x, y)\n",
        "Z = f(X, Y)\n",
        "\n",
        "# Criando a figura e o gráfico\n",
        "fig = plt.figure()\n",
        "ax = plt.axes(projection='3d')\n",
        "ax.plot_surface(X, Y, Z, cmap='viridis')\n",
        "\n",
        "# Animação do gráfico\n",
        "def update(frame): # Define a função que atualiza cada frame da animação.\n",
        "  ax.view_init(elev=5 + frame, azim=frame * 5) # Ajusta o ângulo de visão do gráfico 3D para cada frame.\n",
        "  return fig, #Retorna a figura atualizada para ser exibida na animação.\n",
        "\n",
        "# Cria um objeto de animação usando a função update.\n",
        "ani = animation.FuncAnimation(fig, update, frames=100, interval=100, blit=True)\n",
        "\n",
        "# Salvando e exibindo a animação\n",
        "ani.save('animation.html', writer='html') # Salva a animação como um arquivo HTML.\n",
        "HTML(ani.to_html5_video()) # Exibe a animação no notebook."
      ],
      "metadata": {
        "id": "htGzgvCdElln"
      },
      "execution_count": null,
      "outputs": []
    },
    {
      "cell_type": "markdown",
      "source": [],
      "metadata": {
        "id": "caH4XTHPAnFl"
      }
    },
    {
      "cell_type": "code",
      "source": [],
      "metadata": {
        "id": "4q0oICS4V37l"
      },
      "execution_count": null,
      "outputs": []
    }
  ]
}